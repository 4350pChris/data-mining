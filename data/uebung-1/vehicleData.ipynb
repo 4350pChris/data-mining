{
 "cells": [
  {
   "cell_type": "markdown",
   "metadata": {},
   "source": [
    "# Data Mining Versuch Fahrzeugdaten\n",
    "\n",
    "* Autor: Prof. Dr. Johannes Maucher\n",
    "* Datum: 11.03.2021\n",
    "\n",
    "**Abzugeben ist das Jupyter Notebook mit dem verlangten Implementierungen, den entsprechenden Ausgaben, Antworten und Diskussionen/Beschreibungen. Das Notebook ist als .ipynb und als .html abzugeben.**\n",
    "\n",
    "* [Übersicht Jupyter Notebooks im Data Mining Praktikum](http://maucher.pages.mi.hdm-stuttgart.de/ai/page/dm/)\n",
    "\n",
    "\n",
    "# Einführung\n",
    "## Lernziele:\n",
    "In diesem Versuch sollen Kenntnisse in folgenden Themen vermittelt werden:\n",
    "\n",
    "* Datenimport und Datenexport von und zu \n",
    "    * Pandas Dataframes\n",
    "    * PostgreSQL Datenbanken\n",
    "* Explorative Datenanalysen (EDA)\n",
    "* Datenvisualisierung mit Matplotlib und plotly\n",
    "* Überwachtes Lernen eines Klassifikationsmodells\n",
    "* Überwachtes Lernen eines Regressionsmodells\n",
    "* Evaluation von Klassifikationsmodellen\n",
    "* Evaluation von Regressionsmodellen\n",
    "* Kreuzvalidierung\n",
    "* Hyperparameteroptimierung\n",
    "\n",
    "## Vorbereitung\n",
    "\n",
    "### Datenbankzugriff\n",
    "1. Installieren Sie PostgreSQL. Mit PostgreSQL sollte auch pgAdmin installiert werden. PgAdmin ist eine open-source Software für die Entwicklung und die Administration von PostgreSQL Datenbanken.\n",
    "2. Legen Sie über pgAdmin eine Datenbank für das Datamining-Praktikum an. In diese Datenbank werden alle in diesem Versuch relevanten Tabellen geschrieben.\n",
    "3. Für den Datenbankzugriff aus Python heraus wird in diesem Versuch [SQLAlchemy](http://docs.sqlalchemy.org/en/latest/intro.html) eingesetzt. Machen Sie sich mit den Basics von SQLAlchemy vertraut, z.B. mithilfe von [https://gitlab.mi.hdm-stuttgart.de/maucher/DataScienceProgramming/blob/master/Python/Lecture/07DataBasePandas.ipynb](https://gitlab.mi.hdm-stuttgart.de/maucher/DataScienceProgramming/blob/master/Python/Lecture/07DataBasePandas.ipynb), Abschnitt *Using SQLAlchemy and Pandas*.\n",
    "\n",
    "### Pandas Dataframe\n",
    "Machen Sie sich mit den Grundlagen von Pandas vertraut.\n",
    "\n",
    "\n",
    "### Machine Learning\n",
    "Machen Sie sich mit Entscheidungsbäumen, Random Forest, Single Layer Perzeptron und Multi Layer Perzeptron vertraut. "
   ]
  },
  {
   "cell_type": "markdown",
   "metadata": {},
   "source": [
    "# Durchführung\n",
    "\n",
    "## Einlesen der Daten aus .csv und Ablage in PostgreSQL\n",
    "In diesem ersten Teil des Versuchs sollen die relevanten Daten aus dem .csv-File eingelesen und in einer PostgreSQL-Tabelle abgelegt werden. Das benötigte File `Fahrzeuginformationen.csv` liegt im aktuellen Verzeichnis."
   ]
  },
  {
   "cell_type": "markdown",
   "metadata": {},
   "source": [
    "1. Laden Sie die .csv-Datei in einen Pandas Dataframe. \n",
    "\n",
    "2. Zeigen Sie für den angelegten Dataframe \n",
    "    * die ersten 10 Zeilen\n",
    "    * die Größe (Anzahl Zeilen und Anzahl Spalten)\n",
    "    * die Anzahl der NaNs pro Spalte\n",
    "    an. \n",
    "3. Zeigen Sie mit der Pandas-Dataframe Methode `info()`, den Datentyp aller Spalten an. Der Typ der Spalte `CO2-Emissionen` ist tatsächlich kein numerischer Typ. Finden Sie heraus warum das so ist. Beheben Sie den *Fehler* und sorgen Sie dafür, dass auch diese Spalte einen numerischen Typ hat.\n",
    "\n",
    "4. Schreiben Sie den im vorigen Schritt angepassten Dataframe mit der Pandas Methode `to_sql()` in eine Datenbanktabelle mit dem Namen `vehicledata`."
   ]
  },
  {
   "cell_type": "code",
   "execution_count": 49,
   "metadata": {},
   "outputs": [],
   "source": [
    "import pandas as pd\n",
    "\n",
    "# decimal solves point 3\n",
    "carsDF = pd.read_csv(\"/home/jovyan/work/uebung-1/Fahrzeuginformationen.csv\",sep=\",\",header=0,index_col=False,decimal=\",\")"
   ]
  },
  {
   "cell_type": "code",
   "execution_count": 50,
   "metadata": {},
   "outputs": [
    {
     "data": {
      "text/html": [
       "<div>\n",
       "<style scoped>\n",
       "    .dataframe tbody tr th:only-of-type {\n",
       "        vertical-align: middle;\n",
       "    }\n",
       "\n",
       "    .dataframe tbody tr th {\n",
       "        vertical-align: top;\n",
       "    }\n",
       "\n",
       "    .dataframe thead th {\n",
       "        text-align: right;\n",
       "    }\n",
       "</style>\n",
       "<table border=\"1\" class=\"dataframe\">\n",
       "  <thead>\n",
       "    <tr style=\"text-align: right;\">\n",
       "      <th></th>\n",
       "      <th>HST Benennung</th>\n",
       "      <th>HT Benennung</th>\n",
       "      <th>UT Benennung</th>\n",
       "      <th>Karosserie</th>\n",
       "      <th>Neupreis Brutto</th>\n",
       "      <th>Produktgruppe</th>\n",
       "      <th>Kraftstoffart</th>\n",
       "      <th>Schadstoffklasse</th>\n",
       "      <th>CCM</th>\n",
       "      <th>KW</th>\n",
       "      <th>...</th>\n",
       "      <th>Zuladung</th>\n",
       "      <th>Zulässiges GG</th>\n",
       "      <th>Länge</th>\n",
       "      <th>Breite</th>\n",
       "      <th>Höhe</th>\n",
       "      <th>CO2-Emissionen</th>\n",
       "      <th>Min Energieeffizienzklasse</th>\n",
       "      <th>Antrieb</th>\n",
       "      <th>KSTA Motor</th>\n",
       "      <th>HST-HT Benennung</th>\n",
       "    </tr>\n",
       "  </thead>\n",
       "  <tbody>\n",
       "    <tr>\n",
       "      <th>0</th>\n",
       "      <td>Volkswagen</td>\n",
       "      <td>T6 Bus (SG)(05.2015-&gt;)</td>\n",
       "      <td>Multivan Trendline</td>\n",
       "      <td>Bs</td>\n",
       "      <td>37962</td>\n",
       "      <td>T5-Klasse Pkw</td>\n",
       "      <td>BS</td>\n",
       "      <td>E6</td>\n",
       "      <td>1896</td>\n",
       "      <td>112</td>\n",
       "      <td>...</td>\n",
       "      <td>905</td>\n",
       "      <td>2967.6156346708935</td>\n",
       "      <td>4852</td>\n",
       "      <td>1849</td>\n",
       "      <td>2019</td>\n",
       "      <td>218.0</td>\n",
       "      <td>D</td>\n",
       "      <td>FA</td>\n",
       "      <td>STANDARD -&gt;B</td>\n",
       "      <td>Volkswagen-T6 Bus (SG)(05.2015-&gt;)</td>\n",
       "    </tr>\n",
       "    <tr>\n",
       "      <th>1</th>\n",
       "      <td>Volkswagen</td>\n",
       "      <td>T6 Bus (SG)(05.2015-&gt;)</td>\n",
       "      <td>Multivan Comfortline</td>\n",
       "      <td>Bs</td>\n",
       "      <td>45294</td>\n",
       "      <td>T5-Klasse Pkw</td>\n",
       "      <td>BS</td>\n",
       "      <td>E6</td>\n",
       "      <td>1990</td>\n",
       "      <td>110</td>\n",
       "      <td>...</td>\n",
       "      <td>753</td>\n",
       "      <td>3061.8487225536783</td>\n",
       "      <td>4859</td>\n",
       "      <td>1827</td>\n",
       "      <td>1938</td>\n",
       "      <td>218.0</td>\n",
       "      <td>D</td>\n",
       "      <td>FA</td>\n",
       "      <td>STANDARD -&gt;B</td>\n",
       "      <td>Volkswagen-T6 Bus (SG)(05.2015-&gt;)</td>\n",
       "    </tr>\n",
       "    <tr>\n",
       "      <th>2</th>\n",
       "      <td>Volkswagen</td>\n",
       "      <td>T6 Bus (SG)(05.2015-&gt;)</td>\n",
       "      <td>Multivan Generation Six</td>\n",
       "      <td>Bs</td>\n",
       "      <td>48675</td>\n",
       "      <td>T5-Klasse Pkw</td>\n",
       "      <td>BS</td>\n",
       "      <td>E6</td>\n",
       "      <td>1943</td>\n",
       "      <td>110</td>\n",
       "      <td>...</td>\n",
       "      <td>768</td>\n",
       "      <td>3018.887413727754</td>\n",
       "      <td>4788</td>\n",
       "      <td>1823</td>\n",
       "      <td>1990</td>\n",
       "      <td>218.0</td>\n",
       "      <td>D</td>\n",
       "      <td>FA</td>\n",
       "      <td>STANDARD -&gt;B</td>\n",
       "      <td>Volkswagen-T6 Bus (SG)(05.2015-&gt;)</td>\n",
       "    </tr>\n",
       "    <tr>\n",
       "      <th>3</th>\n",
       "      <td>Volkswagen</td>\n",
       "      <td>T6 Bus (SG)(05.2015-&gt;)</td>\n",
       "      <td>Multivan 70 Jahre Bulli</td>\n",
       "      <td>Bs</td>\n",
       "      <td>47201</td>\n",
       "      <td>T5-Klasse Pkw</td>\n",
       "      <td>BS</td>\n",
       "      <td>E6</td>\n",
       "      <td>2013</td>\n",
       "      <td>110</td>\n",
       "      <td>...</td>\n",
       "      <td>1007</td>\n",
       "      <td>3096.198902266773</td>\n",
       "      <td>4927</td>\n",
       "      <td>1952</td>\n",
       "      <td>1935</td>\n",
       "      <td>210.0</td>\n",
       "      <td>D</td>\n",
       "      <td>FA</td>\n",
       "      <td>STANDARD -&gt;B</td>\n",
       "      <td>Volkswagen-T6 Bus (SG)(05.2015-&gt;)</td>\n",
       "    </tr>\n",
       "    <tr>\n",
       "      <th>4</th>\n",
       "      <td>Volkswagen</td>\n",
       "      <td>T6 Bus (SG)(05.2015-&gt;)</td>\n",
       "      <td>Multivan Join</td>\n",
       "      <td>Bs</td>\n",
       "      <td>49453</td>\n",
       "      <td>T5-Klasse Pkw</td>\n",
       "      <td>BS</td>\n",
       "      <td>E6</td>\n",
       "      <td>1945</td>\n",
       "      <td>112</td>\n",
       "      <td>...</td>\n",
       "      <td>972</td>\n",
       "      <td>3068.590854450294</td>\n",
       "      <td>4916</td>\n",
       "      <td>1872</td>\n",
       "      <td>2026</td>\n",
       "      <td>210.0</td>\n",
       "      <td>D</td>\n",
       "      <td>FA</td>\n",
       "      <td>STANDARD -&gt;B</td>\n",
       "      <td>Volkswagen-T6 Bus (SG)(05.2015-&gt;)</td>\n",
       "    </tr>\n",
       "    <tr>\n",
       "      <th>5</th>\n",
       "      <td>Volkswagen</td>\n",
       "      <td>T6 Bus (SG)(05.2015-&gt;)</td>\n",
       "      <td>Multivan PanAmericana</td>\n",
       "      <td>Bs</td>\n",
       "      <td>50795</td>\n",
       "      <td>T5-Klasse Pkw</td>\n",
       "      <td>BS</td>\n",
       "      <td>E6</td>\n",
       "      <td>1938</td>\n",
       "      <td>109</td>\n",
       "      <td>...</td>\n",
       "      <td>823</td>\n",
       "      <td>3046.890760991201</td>\n",
       "      <td>4886</td>\n",
       "      <td>1895</td>\n",
       "      <td>1933</td>\n",
       "      <td>210.0</td>\n",
       "      <td>D</td>\n",
       "      <td>FA</td>\n",
       "      <td>STANDARD -&gt;B</td>\n",
       "      <td>Volkswagen-T6 Bus (SG)(05.2015-&gt;)</td>\n",
       "    </tr>\n",
       "    <tr>\n",
       "      <th>6</th>\n",
       "      <td>Volkswagen</td>\n",
       "      <td>T6 Bus (SG)(05.2015-&gt;)</td>\n",
       "      <td>Multivan Edition</td>\n",
       "      <td>Bs</td>\n",
       "      <td>51605</td>\n",
       "      <td>T5-Klasse Pkw</td>\n",
       "      <td>BS</td>\n",
       "      <td>E6</td>\n",
       "      <td>1956</td>\n",
       "      <td>111</td>\n",
       "      <td>...</td>\n",
       "      <td>724</td>\n",
       "      <td>2957.0835107892303</td>\n",
       "      <td>4658</td>\n",
       "      <td>1946</td>\n",
       "      <td>1954</td>\n",
       "      <td>210.0</td>\n",
       "      <td>D</td>\n",
       "      <td>FA</td>\n",
       "      <td>STANDARD -&gt;B</td>\n",
       "      <td>Volkswagen-T6 Bus (SG)(05.2015-&gt;)</td>\n",
       "    </tr>\n",
       "    <tr>\n",
       "      <th>7</th>\n",
       "      <td>Volkswagen</td>\n",
       "      <td>T6 Bus (SG)(05.2015-&gt;)</td>\n",
       "      <td>Multivan Join lang</td>\n",
       "      <td>Bs</td>\n",
       "      <td>54560</td>\n",
       "      <td>T5-Klasse Pkw</td>\n",
       "      <td>BS</td>\n",
       "      <td>E6</td>\n",
       "      <td>1946</td>\n",
       "      <td>110</td>\n",
       "      <td>...</td>\n",
       "      <td>960</td>\n",
       "      <td>3099.520813153321</td>\n",
       "      <td>5162</td>\n",
       "      <td>1883</td>\n",
       "      <td>2000</td>\n",
       "      <td>212.0</td>\n",
       "      <td>D</td>\n",
       "      <td>FA</td>\n",
       "      <td>STANDARD -&gt;B</td>\n",
       "      <td>Volkswagen-T6 Bus (SG)(05.2015-&gt;)</td>\n",
       "    </tr>\n",
       "    <tr>\n",
       "      <th>8</th>\n",
       "      <td>Volkswagen</td>\n",
       "      <td>T6 Bus (SG)(05.2015-&gt;)</td>\n",
       "      <td>Multivan Highline</td>\n",
       "      <td>Bs</td>\n",
       "      <td>57729</td>\n",
       "      <td>T5-Klasse Pkw</td>\n",
       "      <td>BS</td>\n",
       "      <td>E6</td>\n",
       "      <td>1966</td>\n",
       "      <td>106</td>\n",
       "      <td>...</td>\n",
       "      <td>707</td>\n",
       "      <td>3033.0833913047786</td>\n",
       "      <td>4994</td>\n",
       "      <td>1871</td>\n",
       "      <td>1980</td>\n",
       "      <td>218.0</td>\n",
       "      <td>D</td>\n",
       "      <td>FA</td>\n",
       "      <td>STANDARD -&gt;B</td>\n",
       "      <td>Volkswagen-T6 Bus (SG)(05.2015-&gt;)</td>\n",
       "    </tr>\n",
       "    <tr>\n",
       "      <th>9</th>\n",
       "      <td>Volkswagen</td>\n",
       "      <td>T6 Bus (SG)(05.2015-&gt;)</td>\n",
       "      <td>Multivan Business</td>\n",
       "      <td>Bs</td>\n",
       "      <td>97850</td>\n",
       "      <td>T5-Klasse Pkw</td>\n",
       "      <td>BS</td>\n",
       "      <td>E6</td>\n",
       "      <td>2029</td>\n",
       "      <td>106</td>\n",
       "      <td>...</td>\n",
       "      <td>605</td>\n",
       "      <td>3006.9767971978567</td>\n",
       "      <td>4948</td>\n",
       "      <td>1900</td>\n",
       "      <td>1931</td>\n",
       "      <td>218.0</td>\n",
       "      <td>D</td>\n",
       "      <td>FA</td>\n",
       "      <td>STANDARD -&gt;B</td>\n",
       "      <td>Volkswagen-T6 Bus (SG)(05.2015-&gt;)</td>\n",
       "    </tr>\n",
       "  </tbody>\n",
       "</table>\n",
       "<p>10 rows × 25 columns</p>\n",
       "</div>"
      ],
      "text/plain": [
       "  HST Benennung            HT Benennung             UT Benennung  Karosserie  \\\n",
       "0    Volkswagen  T6 Bus (SG)(05.2015->)       Multivan Trendline  Bs           \n",
       "1    Volkswagen  T6 Bus (SG)(05.2015->)     Multivan Comfortline  Bs           \n",
       "2    Volkswagen  T6 Bus (SG)(05.2015->)  Multivan Generation Six  Bs           \n",
       "3    Volkswagen  T6 Bus (SG)(05.2015->)  Multivan 70 Jahre Bulli  Bs           \n",
       "4    Volkswagen  T6 Bus (SG)(05.2015->)            Multivan Join  Bs           \n",
       "5    Volkswagen  T6 Bus (SG)(05.2015->)    Multivan PanAmericana  Bs           \n",
       "6    Volkswagen  T6 Bus (SG)(05.2015->)         Multivan Edition  Bs           \n",
       "7    Volkswagen  T6 Bus (SG)(05.2015->)       Multivan Join lang  Bs           \n",
       "8    Volkswagen  T6 Bus (SG)(05.2015->)        Multivan Highline  Bs           \n",
       "9    Volkswagen  T6 Bus (SG)(05.2015->)        Multivan Business  Bs           \n",
       "\n",
       "   Neupreis Brutto  Produktgruppe Kraftstoffart Schadstoffklasse   CCM   KW  \\\n",
       "0            37962  T5-Klasse Pkw            BS               E6  1896  112   \n",
       "1            45294  T5-Klasse Pkw            BS               E6  1990  110   \n",
       "2            48675  T5-Klasse Pkw            BS               E6  1943  110   \n",
       "3            47201  T5-Klasse Pkw            BS               E6  2013  110   \n",
       "4            49453  T5-Klasse Pkw            BS               E6  1945  112   \n",
       "5            50795  T5-Klasse Pkw            BS               E6  1938  109   \n",
       "6            51605  T5-Klasse Pkw            BS               E6  1956  111   \n",
       "7            54560  T5-Klasse Pkw            BS               E6  1946  110   \n",
       "8            57729  T5-Klasse Pkw            BS               E6  1966  106   \n",
       "9            97850  T5-Klasse Pkw            BS               E6  2029  106   \n",
       "\n",
       "   ...  Zuladung       Zulässiges GG Länge  Breite  Höhe  CO2-Emissionen  \\\n",
       "0  ...       905  2967.6156346708935  4852    1849  2019           218.0   \n",
       "1  ...       753  3061.8487225536783  4859    1827  1938           218.0   \n",
       "2  ...       768   3018.887413727754  4788    1823  1990           218.0   \n",
       "3  ...      1007   3096.198902266773  4927    1952  1935           210.0   \n",
       "4  ...       972   3068.590854450294  4916    1872  2026           210.0   \n",
       "5  ...       823   3046.890760991201  4886    1895  1933           210.0   \n",
       "6  ...       724  2957.0835107892303  4658    1946  1954           210.0   \n",
       "7  ...       960   3099.520813153321  5162    1883  2000           212.0   \n",
       "8  ...       707  3033.0833913047786  4994    1871  1980           218.0   \n",
       "9  ...       605  3006.9767971978567  4948    1900  1931           218.0   \n",
       "\n",
       "  Min Energieeffizienzklasse     Antrieb    KSTA Motor  \\\n",
       "0                          D  FA          STANDARD ->B   \n",
       "1                          D  FA          STANDARD ->B   \n",
       "2                          D  FA          STANDARD ->B   \n",
       "3                          D  FA          STANDARD ->B   \n",
       "4                          D  FA          STANDARD ->B   \n",
       "5                          D  FA          STANDARD ->B   \n",
       "6                          D  FA          STANDARD ->B   \n",
       "7                          D  FA          STANDARD ->B   \n",
       "8                          D  FA          STANDARD ->B   \n",
       "9                          D  FA          STANDARD ->B   \n",
       "\n",
       "                    HST-HT Benennung  \n",
       "0  Volkswagen-T6 Bus (SG)(05.2015->)  \n",
       "1  Volkswagen-T6 Bus (SG)(05.2015->)  \n",
       "2  Volkswagen-T6 Bus (SG)(05.2015->)  \n",
       "3  Volkswagen-T6 Bus (SG)(05.2015->)  \n",
       "4  Volkswagen-T6 Bus (SG)(05.2015->)  \n",
       "5  Volkswagen-T6 Bus (SG)(05.2015->)  \n",
       "6  Volkswagen-T6 Bus (SG)(05.2015->)  \n",
       "7  Volkswagen-T6 Bus (SG)(05.2015->)  \n",
       "8  Volkswagen-T6 Bus (SG)(05.2015->)  \n",
       "9  Volkswagen-T6 Bus (SG)(05.2015->)  \n",
       "\n",
       "[10 rows x 25 columns]"
      ]
     },
     "execution_count": 50,
     "metadata": {},
     "output_type": "execute_result"
    }
   ],
   "source": [
    "carsDF.head(10)"
   ]
  },
  {
   "cell_type": "code",
   "execution_count": 7,
   "metadata": {},
   "outputs": [
    {
     "name": "stdout",
     "output_type": "stream",
     "text": [
      "Rows: 24194, Cols: 25\n"
     ]
    }
   ],
   "source": [
    "rows, cols = carsDF.shape\n",
    "print(f\"Rows: {rows}, Cols: {cols}\")"
   ]
  },
  {
   "cell_type": "code",
   "execution_count": 25,
   "metadata": {},
   "outputs": [
    {
     "data": {
      "text/plain": [
       "HST Benennung                 0\n",
       "HT Benennung                  0\n",
       "UT Benennung                  0\n",
       "Karosserie                    0\n",
       "Neupreis Brutto               0\n",
       "Produktgruppe                 0\n",
       "Kraftstoffart                 0\n",
       "Schadstoffklasse              0\n",
       "CCM                           0\n",
       "KW                            0\n",
       "HST PS                        0\n",
       "Getriebeart                   0\n",
       "Getriebe Benennung            0\n",
       "Anzahl der Türen              0\n",
       "Leergewicht                   0\n",
       "Zuladung                      0\n",
       "Zulässiges GG                 0\n",
       "Länge                         0\n",
       "Breite                        0\n",
       "Höhe                          0\n",
       "CO2-Emissionen                0\n",
       "Min Energieeffizienzklasse    0\n",
       "Antrieb                       0\n",
       "KSTA Motor                    0\n",
       "HST-HT Benennung              0\n",
       "dtype: int64"
      ]
     },
     "execution_count": 25,
     "metadata": {},
     "output_type": "execute_result"
    }
   ],
   "source": [
    "carsDF.isnull().sum()"
   ]
  },
  {
   "cell_type": "code",
   "execution_count": 40,
   "metadata": {},
   "outputs": [
    {
     "name": "stdout",
     "output_type": "stream",
     "text": [
      "<class 'pandas.core.frame.DataFrame'>\n",
      "RangeIndex: 24194 entries, 0 to 24193\n",
      "Data columns (total 25 columns):\n",
      " #   Column                      Non-Null Count  Dtype  \n",
      "---  ------                      --------------  -----  \n",
      " 0   HST Benennung               24194 non-null  object \n",
      " 1   HT Benennung                24194 non-null  object \n",
      " 2   UT Benennung                24194 non-null  object \n",
      " 3   Karosserie                  24194 non-null  object \n",
      " 4   Neupreis Brutto             24194 non-null  int64  \n",
      " 5   Produktgruppe               24194 non-null  object \n",
      " 6   Kraftstoffart               24194 non-null  object \n",
      " 7   Schadstoffklasse            24194 non-null  object \n",
      " 8   CCM                         24194 non-null  int64  \n",
      " 9   KW                          24194 non-null  int64  \n",
      " 10  HST PS                      24194 non-null  int64  \n",
      " 11  Getriebeart                 24194 non-null  object \n",
      " 12  Getriebe Benennung          24194 non-null  object \n",
      " 13  Anzahl der Türen            24194 non-null  int64  \n",
      " 14  Leergewicht                 24194 non-null  int64  \n",
      " 15  Zuladung                    24194 non-null  int64  \n",
      " 16  Zulässiges GG               24194 non-null  object \n",
      " 17  Länge                       24194 non-null  int64  \n",
      " 18  Breite                      24194 non-null  int64  \n",
      " 19  Höhe                        24194 non-null  int64  \n",
      " 20  CO2-Emissionen              24194 non-null  float64\n",
      " 21  Min Energieeffizienzklasse  24194 non-null  object \n",
      " 22  Antrieb                     24194 non-null  object \n",
      " 23  KSTA Motor                  24194 non-null  object \n",
      " 24  HST-HT Benennung            24194 non-null  object \n",
      "dtypes: float64(1), int64(10), object(14)\n",
      "memory usage: 4.6+ MB\n"
     ]
    }
   ],
   "source": [
    "carsDF.info()"
   ]
  },
  {
   "cell_type": "code",
   "execution_count": 39,
   "metadata": {},
   "outputs": [],
   "source": [
    "# errors when not using decimal parameter in read_csv\n",
    "try:\n",
    "  pd.to_numeric(carsDF[\"CO2-Emissionen\"])\n",
    "except ValueError as e:\n",
    "  print(e)"
   ]
  },
  {
   "cell_type": "code",
   "execution_count": 1,
   "metadata": {},
   "outputs": [
    {
     "name": "stdout",
     "output_type": "stream",
     "text": [
      "table already exists\n"
     ]
    },
    {
     "name": "stderr",
     "output_type": "stream",
     "text": [
      "/tmp/ipykernel_242/3542966259.py:9: SADeprecationWarning: The Engine.has_table() method is deprecated and will be removed in a future release.  Please refer to Inspector.has_table(). (deprecated since: 1.4)\n",
      "  if not engine.has_table(\"vehicledata\"):\n"
     ]
    }
   ],
   "source": [
    "from sqlalchemy import create_engine, inspect\n",
    "import json\n",
    "\n",
    "with open('/home/jovyan/work/db.json') as f:\n",
    "    conf = json.load(f)\n",
    "\n",
    "engine = create_engine(f\"postgresql+psycopg2://{conf['user']}:{conf['password']}@{conf['host']}/{conf['dbname']}\")\n",
    "\n",
    "inspector = inspect(engine)\n",
    "\n",
    "if not inspector.has_table(\"vehicledata\"):\n",
    "    carsDF.to_sql(name='vehicledata',index=True, index_label='index',con=engine)\n",
    "else:\n",
    "    print(\"table already exists\")"
   ]
  },
  {
   "cell_type": "markdown",
   "metadata": {},
   "source": [
    "## Exemplarische Datenbankabfragen\n",
    "\n",
    "1. Verwenden Sie Pandas Dataframe Methode `read_sql_query()` um 3 für Sie interessante Datenbankabfragen zu implementieren. Die Resultate der Abfragen werden in einen Pandas Dataframe geschrieben. Zeigen Sie diese an. "
   ]
  },
  {
   "cell_type": "code",
   "execution_count": null,
   "metadata": {},
   "outputs": [],
   "source": []
  },
  {
   "cell_type": "markdown",
   "metadata": {
    "application/vnd.databricks.v1+cell": {
     "inputWidgets": {},
     "nuid": "f85ce87e-60b5-47a0-9c0e-dec064834222",
     "showTitle": false,
     "title": ""
    }
   },
   "source": [
    "## Data Exploration\n",
    "1. Zeigen Sie für alle Spalten die Anzahl der unterschiedlichen Werte in dieser Spalte an.\n",
    "2. Benutzen Sie die Pandas Dataframe Methode `describe()` um sämtliche deskriptiven Statistiken anzuzeigen.\n",
    "3. Legen Sie eine Liste `numeric_features` an, welche nur die Spaltennamen der numerischen Spalten enthält.\n",
    "4. Schreiben Sie die Namen aller nicht-numerischen Spalten in eine Liste `categoric_features`.\n",
    "5. Visualisieren Sie für die Spalten `HST_Benennung`, `Neupreis Brutto`, `CO2-Emissionen` und `Produktgruppe` die Verteilung der Werte in einem Barplot bzw. Histogramm."
   ]
  },
  {
   "cell_type": "code",
   "execution_count": null,
   "metadata": {},
   "outputs": [],
   "source": []
  },
  {
   "cell_type": "markdown",
   "metadata": {},
   "source": [
    "## Machine Learning 1: Produktgruppenbestimmung\n",
    "\n",
    "In diesem Abschnitt soll ein Klassifikator trainiert werden, welcher anhand von Eingabemerkmalen, wie *Breite*, *Höhe*, *Gewicht* usw. das zugehörige Fahrzeugsegment (`Produktgruppe`) vorhersagt.\n",
    "\n",
    "In diesem Teilversuch sollen als Eingabemerkmale die zuvor in `numeric_features` definierten Spalten und die nicht-numerischen Spalten `Antrieb`, `Kraftstoffart`, `KSTA Motor` verwendet werden. Die Zielvariable (Ausgabe) stellt die Spalte `Produktgruppe` dar.\n",
    "\n",
    "\n",
    "### Produktgrunppenspezifische Visualisierung\n",
    "\n",
    "1. Plotten Sie für die drei oben angegebenen nicht-numerischen Merkmale jeweils eine Produktgruppen-spezifische Häufigkeitsverteilung in der unten dargestellten Form. \n",
    "\n",
    "<img src=\"https://maucher.home.hdm-stuttgart.de/Pics/antrieb_produktgruppe.png\" style=\"width:500px\" align=\"center\">\n",
    "\n",
    "2. Plotten Sie für alle numerischen Merkmale jeweils einen Produktgruppen-spezifischen Boxplot in der unten dargestellten Form. \n",
    "\n",
    "<img src=\"https://maucher.home.hdm-stuttgart.de/Pics/neupreis_produktgruppe.png\" style=\"width:500px\" align=\"center\">\n",
    "\n",
    "3. Erzeugen Sie mit [plotly.express scatter()](https://plotly.com/python/line-and-scatter/) einen 2-dimensionalen Plot, in dem alle Fahrzeuge wie folgt dargestellt werden (pro Fahrzeug ein Marker):\n",
    "- x-Achse: `Länge`\n",
    "- y-Achse: `Höhe`\n",
    "- Farbe des Markers: `Produktgruppe`\n",
    "- Größe des Markers: `Leergewicht`\n",
    "- Bei *Mouse-Over* soll für den jeweiligen Marker der entsprechende Wert von `Neupreis Brutto` und `HST-HT Benennung` angezeigt werden. "
   ]
  },
  {
   "cell_type": "code",
   "execution_count": null,
   "metadata": {},
   "outputs": [],
   "source": []
  },
  {
   "cell_type": "markdown",
   "metadata": {
    "application/vnd.databricks.v1+cell": {
     "inputWidgets": {},
     "nuid": "63e5b2ec-17c0-4494-b5ab-a8a7a203d881",
     "showTitle": false,
     "title": ""
    }
   },
   "source": [
    "### Data Encoding\n",
    "\n",
    "1. Categoriale Merkmale ohne Ordnungsrelation (=nominale Merkmale) müssen One-Hot-Encodiert werden. Führen Sie für die drei categorialen Merkmale ein One-Hot-Encoding mit dem [scikit-learn LabelBinarizer](https://scikit-learn.org/stable/modules/generated/sklearn.preprocessing.LabelBinarizer.html) durch.\n",
    "2. Fügen Sie die one-hot-encodierten Spalten mit den numerischen Spalten zusammen. Weisen Sie die entsprechende Eingabedatenmatrix einem 2-dimensionalen numpy-array `X` zu. \n",
    "3. Führen Sie auf die Zielvariable `Produktgruppe` ein Label-Encoding mit [scikit-learn LabelEncoder](https://scikit-learn.org/stable/modules/generated/sklearn.preprocessing.LabelEncoder.html#sklearn.preprocessing.LabelEncoder) aus. Weisen Sie diese Daten dem 1-dimensionalen numpy-array `y` zu."
   ]
  },
  {
   "cell_type": "code",
   "execution_count": null,
   "metadata": {},
   "outputs": [],
   "source": []
  },
  {
   "cell_type": "markdown",
   "metadata": {
    "application/vnd.databricks.v1+cell": {
     "inputWidgets": {},
     "nuid": "1535bdf1-f3a9-4a57-88d2-756af7b52be8",
     "showTitle": false,
     "title": ""
    }
   },
   "source": [
    "### Generate Training- and Testpartition\n",
    "Benutzen Sie die [scikit-learn Methode train_test_split()](https://scikit-learn.org/stable/modules/generated/sklearn.model_selection.train_test_split.html) um `X` und `y` in einer Trainings- und Testpartition aufzuteilen. 30% der Daten soll für das Testen, 70% für das Training benutzt werden."
   ]
  },
  {
   "cell_type": "code",
   "execution_count": null,
   "metadata": {},
   "outputs": [],
   "source": []
  },
  {
   "cell_type": "markdown",
   "metadata": {
    "application/vnd.databricks.v1+cell": {
     "inputWidgets": {},
     "nuid": "b8a8c080-f89e-4b8d-b765-4d6a8ba1c863",
     "showTitle": false,
     "title": ""
    }
   },
   "source": [
    "### Decision Tree Training, Test and Evaluation\n",
    "1. Trainieren Sie einen [Entscheidungsbaum](https://scikit-learn.org/stable/modules/generated/sklearn.tree.DecisionTreeClassifier.html) mit den Trainingsdaten.\n",
    "2. Wenden Sie den gelernten Entscheidungsbaum auf die Testdaten.\n",
    "3. Evaluieren Sie die Qualität des Entscheidungsbaumes indem Sie \n",
    "     - einen [classification_report](https://scikit-learn.org/stable/modules/generated/sklearn.metrics.classification_report.html) erzeugen. \n",
    "     - die [confusion matrix](https://scikit-learn.org/stable/modules/generated/sklearn.metrics.plot_confusion_matrix.html) plotten.\n",
    " \n",
    " Interpretieren Sie das Ergebnis.\n",
    " \n",
    "4. Führen Sie eine [10-fache Kreuzvalidierung](https://scikit-learn.org/stable/modules/generated/sklearn.model_selection.cross_val_score.html) des Entscheidungsbaumes mit den Daten `X` und `y` aus. Interpretieren Sie das Ergebnis.\n",
    "5. Bestimmen Sie die *Wichtigkeit* der Eingabemerkmale für die Klassifikationsaufgabe, indem Sie auf den in 1.) gelernten DecisionTree das Attribut `feature_importance_` abfragen. Stellen Sie die Werte in einem Barplot dar."
   ]
  },
  {
   "cell_type": "code",
   "execution_count": null,
   "metadata": {},
   "outputs": [],
   "source": []
  },
  {
   "cell_type": "markdown",
   "metadata": {
    "application/vnd.databricks.v1+cell": {
     "inputWidgets": {},
     "nuid": "af044466-8c3e-4681-b5e2-c248cae1321d",
     "showTitle": false,
     "title": ""
    }
   },
   "source": [
    "### Random Forest Training, Test and Evaluation\n",
    "Wiederholen Sie die Teilaufgaben 1. bis 5. des Entscheidungsbaums für einen [Random Forest](https://scikit-learn.org/stable/modules/generated/sklearn.ensemble.RandomForestClassifier.html). Vergelichen Sie die Performance der beiden Verfahren."
   ]
  },
  {
   "cell_type": "markdown",
   "metadata": {},
   "source": [
    "## Machine Learning 2: Schätzung der CO2-Emission\n",
    "In diesem Teilversuch soll aus den Eingabemerkmalen \n",
    "\n",
    "`\"CCM\",\"HST PS\", \"Anzahl der Türen\", \"Leergewicht\", \"Zuladung\", \"Länge\", \"Breite\", \"Höhe\"`\n",
    "\n",
    "die Zielvariable \n",
    "\n",
    "`CO2-Emissionen`\n",
    "\n",
    "geschätzt werden. Hierzu soll ein möglichst gutes Regressionsmodell trainiert werden."
   ]
  },
  {
   "cell_type": "markdown",
   "metadata": {},
   "source": [
    "### Visuelle Korrelationsanalyse\n",
    "1. Stellen Sie für jedes der 8 Eingabemerkmale die Korrelation mit der Zielvariablen visuell in einem Scatterplot dar, in dem das jeweilige Eingabemerkmal auf der x-Achse und die Zielvariable auf der y-Achse aufgetragen wird.\n",
    "2. Diskutieren Sie die Korrelationen. Welche Merkmale korrelieren am stärksten mit der Zielvariable? Erscheint Ihnen das plausibel?"
   ]
  },
  {
   "cell_type": "code",
   "execution_count": null,
   "metadata": {},
   "outputs": [],
   "source": []
  },
  {
   "cell_type": "markdown",
   "metadata": {},
   "source": [
    "### Data Encoding\n",
    "1. Weisen Sie die Matrix der Eingabedaten dem 2-dimensionalen Array `X` und die Zielvariable dem 1-dimensionalen Array `y` zu.\n",
    "2. Führen Sie auf `X` und `y` eine Partitionierung in Trainings- und Testdaten durch, wieder im Verhältnis 70/30.\n",
    "3. Skalieren Sie die Eingabevariablen und die Zielvariable mit dem [MinMaxScaler](https://scikit-learn.org/stable/modules/generated/sklearn.preprocessing.MinMaxScaler.html). Die Skalierung muss sowohl auf Trainings- als auch auf Testdaten ausgeführt werden. Warum darf die Skalierung erst nach dem Split in die beiden Partitionen ausgeführt werden? Worauf ist zu achten? "
   ]
  },
  {
   "cell_type": "code",
   "execution_count": null,
   "metadata": {},
   "outputs": [],
   "source": []
  },
  {
   "cell_type": "markdown",
   "metadata": {},
   "source": [
    "### Training, Test und Evaluation verschiedener Regressionsmodelle\n",
    "\n",
    "Führen Sie die folgenden Teilaufgaben sowohl für ein [Single Layer Perceptron](https://scikit-learn.org/stable/modules/generated/sklearn.linear_model.SGDRegressor.html) als auch für ein [Multi Layer Perceptron](https://scikit-learn.org/stable/modules/generated/sklearn.neural_network.MLPRegressor.html) mit 20 Neuronen in der Hidden-Schicht durch. Vergleichen Sie am Ende die Performance der beiden Verfahren.\n",
    "1. Trainieren Sie den Algorithmus mit den Trainingsdaten.\n",
    "2. Wenden Sie das gelernte Modell auf die Testdaten an.\n",
    "3. Evaluieren Sie die Qualität der Modelle, indem Sie auf die vorhergesagten Ausgaben und die wahren Ausgaben die unten gegebene Funktion aufrufen.\n",
    "4. Beschreiben Sie kurz die in der Funktion verwendeten Metriken"
   ]
  },
  {
   "cell_type": "code",
   "execution_count": null,
   "metadata": {},
   "outputs": [],
   "source": [
    "from sklearn.metrics import mean_squared_error, mean_absolute_error, median_absolute_error, r2_score"
   ]
  },
  {
   "cell_type": "code",
   "execution_count": null,
   "metadata": {},
   "outputs": [],
   "source": [
    "def determineRegressionMetrics(y_test,y_pred,title=\"\"):\n",
    "    mse = mean_squared_error(y_test, y_pred)\n",
    "    mad = mean_absolute_error(y_test, y_pred)\n",
    "    rmsle=np.sqrt(mean_squared_error(np.log(y_test+1),np.log(y_pred+1)))# +1 for avoiding log(0) \n",
    "    r2=r2_score(y_test, y_pred)\n",
    "    med=median_absolute_error(y_test, y_pred)\n",
    "    print(title)\n",
    "    print(\"Mean absolute error =\", round(mad, 2))\n",
    "    print(\"Mean squared error =\", round(mse, 2))\n",
    "    print(\"Median absolute error =\", round(med, 2))\n",
    "    print(\"R2 score =\", round(r2, 2))\n",
    "    print(\"Root Mean Squared Logarithmic Error =\",rmsle)"
   ]
  },
  {
   "cell_type": "code",
   "execution_count": null,
   "metadata": {},
   "outputs": [],
   "source": []
  },
  {
   "cell_type": "markdown",
   "metadata": {},
   "source": [
    "### Hyperparameteroptimierung"
   ]
  },
  {
   "cell_type": "markdown",
   "metadata": {},
   "source": [
    "Für ein [Multi Layer Perceptron](https://scikit-learn.org/stable/modules/generated/sklearn.neural_network.MLPRegressor.html) soll eine Hyperparameteroptimierung durchgeführt werden. Ziel ist es innerhalb der unten vorgegebenen Wertebereiche für die Hyperparameter `hidden_layer_sizes`, `activation` und `learning_rate` die beste Konfiguration zu finden. Hierzu kann entweder [GridSearchCV](https://scikit-learn.org/stable/modules/generated/sklearn.model_selection.GridSearchCV.html#sklearn.model_selection.GridSearchCV) oder [RandomizedSearchCV](https://scikit-learn.org/stable/modules/generated/sklearn.model_selection.RandomizedSearchCV.html) eingesetzt werden. GridSearchCV testet einfach alle Konfigurationen durch, benötigt daher aber viel Zeit. RandomizedSearchCV geht heuristisch und damit schneller durch den Suchraum. Wenden Sie eines dieser beiden Verfahren an, um für das unten gegebene Parameter-Grid die optimale Konfiguration zu finden. Welches ist die optimale Konfiguration und zu welchem `neg_mean_absolute_error`  führt diese?"
   ]
  },
  {
   "cell_type": "code",
   "execution_count": 146,
   "metadata": {},
   "outputs": [
    {
     "data": {
      "text/plain": [
       "[{'hidden_layer_sizes': [(10,), (20,), (30,), (40,), (50,), (100,), (10, 10)],\n",
       "  'activation': ['logistic', 'tanh', 'relu'],\n",
       "  'learning_rate': ['constant', 'invscaling', 'adaptive']}]"
      ]
     },
     "execution_count": 146,
     "metadata": {},
     "output_type": "execute_result"
    }
   ],
   "source": [
    "param_grid = [{'hidden_layer_sizes': [(10,),(20,),(30,),(40,),(50,),(100,),(10,10)], \n",
    "               'activation': [\"logistic\", \"tanh\", \"relu\"], \n",
    "               'learning_rate': [\"constant\", \"invscaling\", \"adaptive\"]}]\n",
    "param_grid"
   ]
  },
  {
   "cell_type": "code",
   "execution_count": null,
   "metadata": {},
   "outputs": [],
   "source": []
  }
 ],
 "metadata": {
  "application/vnd.databricks.v1+notebook": {
   "dashboards": [],
   "language": "python",
   "notebookName": "fahrzeug_segmentierung_uebung",
   "notebookOrigID": 628697663431637,
   "widgets": {}
  },
  "kernelspec": {
   "display_name": "Python 3 (ipykernel)",
   "language": "python",
   "name": "python3"
  },
  "language_info": {
   "codemirror_mode": {
    "name": "ipython",
    "version": 3
   },
   "file_extension": ".py",
   "mimetype": "text/x-python",
   "name": "python",
   "nbconvert_exporter": "python",
   "pygments_lexer": "ipython3",
   "version": "3.10.6"
  }
 },
 "nbformat": 4,
 "nbformat_minor": 1
}
