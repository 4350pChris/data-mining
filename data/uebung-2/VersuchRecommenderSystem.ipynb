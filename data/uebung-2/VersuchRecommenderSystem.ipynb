{
 "cells": [
  {
   "cell_type": "markdown",
   "metadata": {},
   "source": [
    "# Data Mining Versuch Recommender Systeme\n",
    "\n",
    "* Autor: Prof. Dr. Johannes Maucher\n",
    "* Datum: 30.09.2015\n",
    "\n",
    "# Einführung\n",
    "## Lernziele:\n",
    "In diesem Versuch sollen Kenntnisse in folgenden Themen vermittelt werden:\n",
    "\n",
    "* __Ähnlichkeit:__ Verfahren zur Bestimmung der Ähnlichkeit zwischen Personen (Kunden) und Elementen (Produkten)\n",
    "* __Empfehlungssysteme__ Collaborative Filtering \n",
    "* __Collaborative Filtering:__ Nutzerbezogener Ansatz und elementbasierter Ansatz\n",
    "\n",
    "Sämtliche Verfahren und Algorithmen werden in Python implementiert.\n",
    "\n",
    "## Theorie zur Vorbereitung\n",
    "### Recommender Systeme\n",
    "Recommender Systeme werden im E-Commerce eingesetzt um Werbung in Form von kundenspezifischen Empfehlungen zu verteilen. Weitläufig bekannt sind die Amazon-Empfehlungen, die entweder per e-mail geschickt oder nach dem Log-In in der Web-Page angezeigt werden. Diese Empfehlungen werden in Abhängigkeit von den bisher vom jeweiligen Kunden gekauften bzw. bewerteten Produkten erstellt. In diesem Versuch werden die derzeit wohl am weitest verbreiteteten Verfahren für die Erzeugung kundenspezifischer Empfehlungen vorgestellt, darunter das elementweise Collaborative Filtering, welches z.B. auch von Amazon eingesetzt wird.     \n",
    "\n",
    "Direkt-Marketing Methoden wie die kundenspezifische Erzeugung und Bereitstellung von Werbung erfordern detaillierte Kunden- und Warenkorbanalysen. Kunden mit ähnlichem Kaufverhalten werden in Kundengruppen zusammengefasst. Die Warenkorbanalyse untersucht u.a. welche Waren bevorzugt im Verbund von der gleichen Person gekauft werden. Damit kann ein Händler Werbung in Form von Empfehlungen individuell und gezielt an seine Kunden richten, abhängig davon welcher Kundengruppe er angehört und welche Produkte bevorzugt von dieser Kundengruppe nachgefragt werden. \n",
    "\n",
    "Im ersten Teil der Übung werden fiktive Daten in einer überschaubaren Menge verwendet. Es handelt sich hier um Filmbewertungen. Anhand dieses Beispiels sollen die notwendigen Methoden und Abläufe implementiert und getestet werden. Diese werden im zweiten Teil der Übung auf echte Daten angewandt. Hierzu werden über eine Python-API Daten vom Internet-Meta-Radio _last.fm_ integriert. Auf der Basis dieser Daten sollen dann Musikempfehlungen für last.fm User berechnet werden. \n",
    "\n",
    "Recommender Systeme lassen sich mit\n",
    "\n",
    "* Clustering Verfahren\n",
    "* Suchalgorithmen\n",
    "* Collaborativen Filtering \n",
    " \n",
    "realisieren. Am häufigsten wird hierbei das Collaborative Filtering eingesetzt. Für das Collaborative Filtering wird jeder der $M$ User durch einen $N$-dimensionalen Vektor beschrieben, wobei $N$ die Anzahl der Produkte im Angebot des Händlers ist. Jedes Element im Vektor gehört zu einem speziellen Produkt. Das Element hat den Wert 1, wenn der User dieses Produkt bereits gekauft hat, sonst 0 (andere Wertbelegungen sind möglich, z.B. wenn Produktbewertungen vorliegen). Alle $M$ Zeilenvektoren können zur _User/Item_ Matrix zusammengefasst werden (siehe Abbildung).\n",
    "\n",
    "\n",
    "<img src=\"https://maucher.home.hdm-stuttgart.de/Pics/UserItemMatrix.png\" style=\"width:500px\" align=\"center\">"
   ]
  },
  {
   "cell_type": "markdown",
   "metadata": {},
   "source": [
    "Das traditionelle **userbasierte Collaborative Filtering (UCF)**, benutzt die Ähnlichkeit zwischen Benutzern: Um für User $U_i$ eine Empfehlung zu erzeugen wird zunächst der diesem User ähnlichste Kunde (oder eine Menge vom ähnlichsten Kunden) ermittelt. Dann werden $U_i$ die Produkte (Items) empfohlen, welche der ähnlichste Kunde gekauft hat, $U_i$ selbst jedoch noch nicht. \n",
    "\n",
    "Dieser Ansatz skaliert schlecht im Fall sehr großer *User/Item*-Matrizen. Ausserdem ist er für User, welche erst wenige Produkte gekauft haben unzuverlässig. Besser eignet sich in diesen Fällen das **itembasierte Collaborative Filtering (ICF)**. Es wird u.a. von Amazon.com eingesetzt. Diese Variante benutzt die Ähnlichkeit zwischen Produkten (Items). Dabei sind Produkte umso ähnlicher je mehr Kunden diese Produkte gemeinsam gekauft haben. Für die Produkte welche ein Referenzuser $U_i$ bereits gekauft hat, werden die ähnlichsten Produkte ermittelt. Diese ähnlichsten Produkte werden $U_i$ empfohlen, wenn er sie nicht schon selbst gekauft hat.\n",
    "\n",
    "Im folgenden Abschnitt werden einige gebräuchliche Metriken für die Berechnung der Ähnlichkeit zwischen Benutzern oder Artikeln vorgestellt. Für Collaboratives Filtering wird sehr häufig das Cosinus - Ähnlichkeitsmaß eingesetzt.\n"
   ]
  },
  {
   "cell_type": "markdown",
   "metadata": {},
   "source": [
    "### Gebräuchliche Ähnlichkeitsmaße\n",
    "\n",
    "Die __euklidische Distanz__ $d_E(\\underline{a},\\underline{b})$ zwischen zwei n-dimensionalen Vektoren $\\underline{a}=(a_1,\\ldots,a_n)$ und $\\underline{b}=(b_1,\\ldots,b_n)$ berechnet sich zu\n",
    "\t$$\n",
    "\td_E(\\underline{a},\\underline{b})=\\sqrt{\\sum_{i=1}^n (a_i-b_i)^2}\n",
    "\t$$\n",
    "Zwei Vektoren können als umso ähnlicher erachtet werden, je kleiner deren euklidische Distanz ist. \n",
    "Ein auf der euklidischen Metrik basierendes Ähnlichkeitsmaß zwischen zwei Vektoren $\\underline{a}$ und $\\underline{b}$ kann durch \n",
    "$$\n",
    "s_E(\\underline{a},\\underline{b})=\\frac{1}{1+d_E(\\underline{a},\\underline{b})}\n",
    "$$\n",
    "angegeben werden.\n",
    "\n",
    "\n",
    "__Pearson Korrelation__\n",
    "Die Ähnlichkeit zwischen zwei Vektoren kann auch durch den Pearson-Korrelationskoeffizient $\\rho_{\\underline{a},\\underline{b}}$ ausgedrückt werden. Er berechnet sich zu\n",
    "$$\n",
    "\\rho_{\\underline{a},\\underline{b}}= \\frac{1}{N}\\cdot \\sum\\limits_{i=1}^{N}\\frac{(a_i-\\overline{a})}{\\sigma_a} \\frac{(b_i-\\overline{b})}{\\sigma_b}\n",
    "$$\n",
    "Dabei bezeichnet $N$ die Länge der Vektoren, $\\overline{a}$ den Mittelwert und $\\sigma_a$ die Standardabweichung des Vektors $\\underline{a}$. \n",
    "\n",
    "Der Pearson-Korrelationskoeffizient misst die lineare Abhängigkeit zwischen zwei Vektoren. Der maximale Wert von $+1$ wird erreicht, wenn die durch die beiden Vektoren definierten N Punkte im 2-dimensionalen Raum auf einer ansteigenden Geraden liegen. Der Minimalwert von $-1$ wird erreicht, wenn die Punkte auf einer abfallenden Geraden liegen. Der Betrag des Koeffizienten ist umso kleiner, je stärker die Punkte von einer fiktiven Geraden (kann durch lineare Regression berechnet werden) abweichen. Der Koeffizient ist $0$ wenn keine lineare Abhängigkeit zwischen den Vektoren besteht.\n",
    "\n",
    "\n",
    "__Cosinus Ähnlichkeitsmaß__\n",
    "Die Ähnlichkeit zwischen zwei Vektoren kann auch durch den Cosinus $\\cos(\\underline{a},\\underline{b})$ ausgedrückt werden. Er berechnet sich zu\n",
    "$$\n",
    "\\cos(\\underline{a},\\underline{b})= \\frac{\\underline{a} \\cdot \\underline{b}}{\\left\\|\\underline{a}\\right\\|\\cdot \\left\\|\\underline{b}\\right\\|}\n",
    "$$\n",
    "wobei im Zähler das Skalarprodukt der beiden Vektoren steht und mit $\\left\\|\\underline{x}\\right\\|$ der Betrag des Vektors $\\underline{x}$ bezeichnet wird.\n",
    "\n",
    "Falls die Vektoren $\\underline{a}$ und $\\underline{b}$ mittelwertfrei sind, ist der Cosinus-Ähnlichkeitswert gleich dem Pearson-Korrelationswert. In der Dokument- und Textanalyse wird vornehmlich das Cosinus-Ähnlichkeitsmaß verwendet. \n",
    "\n",
    "\n",
    "__Russel Rao Ähnlichkeitsmaß__\n",
    "Die Russel Rao-Ähnlichkeit zwischen zwei binären Vektoren $\\underline{a}$ und $\\underline{b}$ mißt das Verhältnis zwischen der Anzahl $\\alpha$ der Stellen in denen beide Vektoren den Wert 1 haben und der Länge $n$ der Vektoren. Z.B. ist für die Vektoren $\\underline{a}=(1,0,1,0,0,1)$ und $\\underline{b}=(0,1,1,1,0,1)$ die Russel-Rao-Ähnlichkeit $s_{RR}(\\underline{a},\\underline{b})=2/6=0.333$.\n",
    "\n",
    "__Jaccard Ähnlichkeitsmaß__\n",
    "Die Jaccard-Ähnlichkeit zwischen zwei binären Vektoren $\\underline{a}$ und $\\underline{b}$ mißt das Verhältnis zwischen der Anzahl $\\alpha$ der Stellen in denen beide Vektoren den Wert $1$ haben und der Anzahl der Stellen in denen mindestens einer der beiden Vektoren ungleich $0$ ist. Z.B. ist für die Vektoren $\\underline{a}=(1,0,1,0,0,1)$ und $\\underline{b}=(0,1,1,1,0,1)$ die Jaccard-Ähnlichkeit $s_{J}(\\underline{a},\\underline{b})=2/5=0.4$. Die Jaccard Metrik wird in diesem Versuch für die Bestimmung der Ähnlichkeit von *last.fm*-Usern eingesetzt.\n"
   ]
  },
  {
   "cell_type": "markdown",
   "metadata": {},
   "source": [
    "## Vor dem Versuch zu klärende Fragen\n",
    "Eine Untermenge der im Folgenden aufgeführten Fragen wird zu Beginn des Versuchs im Rahmen eines Gruppenkolloqs abgefragt. Auf jede Frage sollte von mindestens einem Gruppenmitglied eine Antwort geliefert werden und jedes Gruppenmitglied muss mindestens eine der gestellten Fragen beantworten können.\n",
    "\n",
    "**Aufgaben:**\n",
    "\n",
    "* Beschreiben Sie das Prinzip des userbasierten Collaborativen Filtering (UCF)."
   ]
  },
  {
   "cell_type": "markdown",
   "metadata": {},
   "source": []
  },
  {
   "cell_type": "markdown",
   "metadata": {},
   "source": [
    "* Welche Nachteile hat das UCF?"
   ]
  },
  {
   "cell_type": "markdown",
   "metadata": {},
   "source": [
    "Es skaliert schlecht bei vielen Items"
   ]
  },
  {
   "cell_type": "markdown",
   "metadata": {},
   "source": [
    "* Worin besteht der Unterschied zwischen UCF und itembasierten Collaborativen Filtering (ICF)?"
   ]
  },
  {
   "cell_type": "markdown",
   "metadata": {},
   "source": [
    "#Your markdown"
   ]
  },
  {
   "cell_type": "markdown",
   "metadata": {},
   "source": [
    "* Gegeben seien die Vektoren \n",
    "\n",
    "    \\begin{eqnarray*}\n",
    "    \\underline{a} & = & [1,2,3,4,5,6] \\\\\n",
    "    \\underline{b} & = & [3,3,5,6,7,8] \\\\\n",
    "    \\end{eqnarray*}\n",
    "    \n",
    "    Schreiben Sie eine Python Funktion, die den Mittelwert derartiger Vektoren berechnet. Schreiben Sie eine weitere Funktion, die die Varianz berechnet"
   ]
  },
  {
   "cell_type": "code",
   "execution_count": null,
   "metadata": {},
   "outputs": [],
   "source": [
    "from functools import reduce\n",
    "import numpy as np\n",
    "\n",
    "def my_mean(lst: list):\n",
    "  return reduce(lambda x, y: x + y, lst) / len(lst)\n",
    "\n",
    "def my_variance(lst: list):\n",
    "  mean = my_mean(lst)\n",
    "  devs = [(x - mean) ** 2 for x in lst]\n",
    "  return my_mean(devs)\n",
    "\n",
    "def compare(lst: list):\n",
    "  print(\"My Functions:\")\n",
    "  print(f\"Mean: {my_mean(lst)}\")\n",
    "  print(f\"Variance: {my_variance(lst)}\")\n",
    "  print(\"Numpy Functions:\")\n",
    "  print(f\"Mean: {np.mean(lst)}\")\n",
    "  print(f\"Variance: {np.var(lst)}\")\n",
    "\n",
    "\n",
    "a = [1,2,3,4,5,6]\n",
    "b = [3,3,5,6,7,8]\n",
    "\n",
    "compare(a)\n",
    "compare(b)"
   ]
  },
  {
   "cell_type": "markdown",
   "metadata": {},
   "source": [
    "* Wie groß ist die\n",
    "\n",
    "    - Euklidische Ähnlichkeit\n",
    "    - Pearson Ähnlichkeit\n",
    "    - Cosinus Ähnlichkeit\n",
    "    \n",
    "    zwischen den Vektoren $\\underline{a}$ und $\\underline{b}$? "
   ]
  },
  {
   "cell_type": "code",
   "execution_count": null,
   "metadata": {},
   "outputs": [],
   "source": [
    "def euclidean_similarity(x: list, y: list):\n",
    "  return 1 / (1 + np.sqrt(np.sum([(a - b) ** 2 for a, b in zip(x, y)])))\n",
    "\n",
    "def pearson_correlation(x: list, y: list):\n",
    "  x_mean = np.mean(x)\n",
    "  y_mean = np.mean(y)\n",
    "  numerator = np.sum([(a - x_mean) * (b - y_mean) for a, b in zip(x, y)])\n",
    "  denominator = np.sqrt(np.sum([(a - x_mean) ** 2 for a in x])) * np.sqrt(np.sum([(b - y_mean) ** 2 for b in y]))\n",
    "  return numerator / denominator\n",
    "\n",
    "def cosine_similarity(x: list, y: list):\n",
    "  numerator = np.sum([a * b for a, b in zip(x, y)])\n",
    "  denominator = np.sqrt(np.sum([a ** 2 for a in x])) * np.sqrt(np.sum([b ** 2 for b in y]))\n",
    "  return numerator / denominator"
   ]
  },
  {
   "cell_type": "code",
   "execution_count": null,
   "metadata": {},
   "outputs": [],
   "source": [
    "print(\"My Functions:\")\n",
    "print(f\"Euclidean Distance: {euclidean_similarity(a, b)}\")\n",
    "print(f\"Pearson Correlation: {pearson_correlation(a, b)}\")\n",
    "print(f\"Cosine Similarity: {cosine_similarity(a, b)}\")\n",
    "\n",
    "from scipy.spatial.distance import cosine, euclidean\n",
    "from scipy.stats import pearsonr\n",
    "\n",
    "print(\"Scipy Functions:\")\n",
    "print(f\"Euclidean Distance: {1 / (1 + euclidean(a, b))}\")\n",
    "print(f\"Pearson Correlation: {pearsonr(a, b)}\")\n",
    "print(f\"Cosine Similarity: {1 - cosine(a, b)}\")"
   ]
  },
  {
   "cell_type": "markdown",
   "metadata": {},
   "source": [
    "* In welchen Fällen sind Cosinus- und Pearsonähnlichkeit der euklidischen Ähnlichkeit vorzuziehen?"
   ]
  },
  {
   "cell_type": "markdown",
   "metadata": {},
   "source": [
    "In mehrdimensionalen Vektorräumen"
   ]
  },
  {
   "cell_type": "code",
   "execution_count": null,
   "metadata": {},
   "outputs": [],
   "source": [
    "from IPython.display import Latex\n",
    "from IPython.display import Image\n",
    "import pylast"
   ]
  },
  {
   "cell_type": "markdown",
   "metadata": {},
   "source": [
    "# Versuchsdurchführung\n",
    "## Teil 1: Fiktive Filmbewertung\n",
    "### Daten\n",
    "Folgende Tabelle enthält die Filmbewertungen von 7 Personen.\n",
    "In diesem Versuch sollen Kenntnisse in folgenden Themen vermittelt werden:\n",
    "\n",
    "\n",
    "<img src=\"https://maucher.home.hdm-stuttgart.de/Pics/recommenderFilmRecommendations.PNG\" style=\"width:500px\" align=\"center\">\n",
    "\n"
   ]
  },
  {
   "cell_type": "markdown",
   "metadata": {},
   "source": [
    "Die Tabelle ist als Python dictionary _critics_ implementiert. Die Keys des Python-Dictionary definieren die Namen von Personen (Zeilen in der Matrix), die Filme bewertet haben. Die Values sind selbst wieder Dictionarys, welche als Keys die Filmnamen (Spalten in der Matrix) und als Values die jeweilige Filmbewertung (Matrixelment) enthalten."
   ]
  },
  {
   "cell_type": "code",
   "execution_count": null,
   "metadata": {},
   "outputs": [],
   "source": [
    "critics={'Lisa Rose': {'Lady in the Water': 2.5, 'Snakes on a Plane': 3.5,\n",
    " 'Just My Luck': 3.0, 'Superman Returns': 3.5, 'You, Me and Dupree': 2.5, \n",
    " 'The Night Listener': 3.0},\n",
    "'Gene Seymour': {'Lady in the Water': 3.0, 'Snakes on a Plane': 3.5, \n",
    " 'Just My Luck': 1.5, 'Superman Returns': 5.0, 'The Night Listener': 3.0, \n",
    " 'You, Me and Dupree': 3.5}, \n",
    "'Michael Phillips': {'Lady in the Water': 2.5, 'Snakes on a Plane': 3.0,\n",
    " 'Superman Returns': 3.5, 'The Night Listener': 4.0},\n",
    "'Claudia Puig': {'Snakes on a Plane': 3.5, 'Just My Luck': 3.0,\n",
    " 'The Night Listener': 4.5, 'Superman Returns': 4.0, \n",
    " 'You, Me and Dupree': 2.5},\n",
    "'Mick LaSalle': {'Lady in the Water': 3.0, 'Snakes on a Plane': 4.0, \n",
    " 'Just My Luck': 2.0, 'Superman Returns': 3.0, 'The Night Listener': 3.0,\n",
    " 'You, Me and Dupree': 2.0}, \n",
    "'Jack Matthews': {'Lady in the Water': 3.0, 'Snakes on a Plane': 4.0,\n",
    " 'The Night Listener': 3.0, 'Superman Returns': 5.0, 'You, Me and Dupree': 3.5},\n",
    "'Toby': {'Snakes on a Plane':4.5,'You, Me and Dupree':1.0,'Superman Returns':4.0}\n",
    "}"
   ]
  },
  {
   "cell_type": "markdown",
   "metadata": {},
   "source": [
    "### Ähnlichkeiten berechnen\n",
    "\n",
    "Für die Bestimmung der Ähnlichkeit zwischen Personen und Produkten werden in diesem Versuch ein auf der euklidischen Distanz basierendes Ähnlichkeitsmaß und die Pearson-Korrelation verwendet. Beide Ähnlichkeitsmaße sind in den unten definierten Funktionen implementiert. Alle drei hier implementierten Funktionen zur Berechnung der Ähnlichkeit erhalten als Übergabeparameter das oben definierte Dictionary, das die Filmbewertungen enthält und die Namen der zwei Personen, die verglichen werden sollen. \n",
    "\n",
    "Zu beachten ist, dass in beiden Funktionen für die Berechnung der Ähnlichkeit zwischen zwei Personen nur die Produkte berücksichtigt werden, welche von beiden Personen schon bewertet wurden. Es handelt sich hier also um modifizierte Ähnlichkeitsfunktionen. \n",
    "\n",
    "__Aufgabe:__\n",
    "Fragen Sie von diesem Dictionary _Toby's_ Bewertung des Films _Snakes on a Plane_ ab und geben Sie diesen Wert aus: "
   ]
  },
  {
   "cell_type": "code",
   "execution_count": null,
   "metadata": {},
   "outputs": [],
   "source": [
    "critics['Toby']['Snakes on a Plane']"
   ]
  },
  {
   "cell_type": "code",
   "execution_count": null,
   "metadata": {},
   "outputs": [],
   "source": [
    "import numpy as np\n",
    "import scipy.spatial.distance as sci\n",
    "\n",
    "\n",
    "def sim_euclid(prefs,person1,person2,normed=True):\n",
    "    ''' Returns a euclidean-distance-based similarity score for \n",
    "    person1 and person2. In the distance calculation the sum is computed \n",
    "    only over those items, which are nonzero for both instances, i.e. only\n",
    "    films which are ranked by both persons are regarded.\n",
    "    If the parameter normed is True, then the euclidean distance is divided by\n",
    "    the number of non-zero elements integrated in the distance calculation. Thus\n",
    "    the effect of larger distances in the case of an increasing number of commonly ranked\n",
    "    items is avoided.\n",
    "    '''\n",
    "    # Get the list of shared_items\n",
    "    si={}\n",
    "    for item in prefs[person1]: \n",
    "        if item in prefs[person2]: \n",
    "            si[item] = 1\n",
    "            \n",
    "    # len(si) counts the number of common ratings\n",
    "    # if they have no ratings in common, return 0\n",
    "    if len(si) == 0: \n",
    "        return 0\n",
    "\n",
    "    # Add up the squares of all the differences\n",
    "    sum_of_squares=np.sqrt(sum([pow(prefs[person1][item]-prefs[person2][item],2) \n",
    "                     for item in prefs[person1] if item in prefs[person2]]))\n",
    "    if normed:\n",
    "        sum_of_squares= 1.0/len(si)*sum_of_squares\n",
    "    return 1/(1+sum_of_squares)\n",
    "\n",
    "\n",
    "def sim_pearson(prefs,p1,p2):\n",
    "    '''\n",
    "    Returns the Pearson correlation coefficient for p1 and p2\n",
    "    '''\n",
    "\n",
    "    # Get the list of commonly rated items\n",
    "    si={}\n",
    "    for item in prefs[p1]: \n",
    "        if item in prefs[p2]: \n",
    "            si[item]=1\n",
    "\n",
    "    # if they are no ratings in common, return 0\n",
    "    if len(si)==0: return 0\n",
    "\n",
    "    # Sum calculations\n",
    "    n=len(si)\n",
    "\n",
    "    # Calculate means of person 1 and 2\n",
    "    mp1=np.mean([prefs[p1][it] for it in si])\n",
    "    mp2=np.mean([prefs[p2][it] for it in si])\n",
    "\n",
    "    # Calculate standard deviation of person 1 and 2\n",
    "    sp1=np.std([prefs[p1][it] for it in si])\n",
    "    sp2=np.std([prefs[p2][it] for it in si])\n",
    "\n",
    "    # If all elements in one sample are identical, the standard deviation is 0. \n",
    "    # In this case there is no linear correlation between the samples\n",
    "    if sp1==0 or sp2==0:\n",
    "        return 0\n",
    "    r=1/(n*sp1*sp2)*sum([(prefs[p1][it]-mp1)*(prefs[p2][it]-mp2) for it in si])\n",
    "    return r\n",
    "\n",
    "\n",
    "def sim_RusselRao(prefs,person1,person2,normed=True):\n",
    "    ''' Returns RusselRao similaritiy between 2 users. The RusselRao similarity just counts the number\n",
    "    of common non-zero components of the two vectors and divides this number by N, where N is the length\n",
    "    of the vectors. If normed=False, the division by N is omitted.\n",
    "    '''\n",
    "    # Get the list of shared_items\n",
    "    si={}\n",
    "    commons=0\n",
    "    for item in prefs[person1]: \n",
    "        if prefs[person1][item]==1 and prefs[person2][item]==1:   \n",
    "            commons+=1\n",
    "    #print commons\n",
    "    if not normed:\n",
    "        return commons\n",
    "    else:\n",
    "        return commons*1.0/len(prefs[person1]) "
   ]
  },
  {
   "cell_type": "markdown",
   "metadata": {},
   "source": [
    "**Aufgabe:**\n",
    "1. Geben Sie die euklidische Ähnlichkeit und die Pearson Ähnlichkeit zwischen den Personen _Toby_ und _Lisa Rose_ aus.\n",
    "2. Diskutieren Sie die unterschiedlichen Ähnlichkeitswert."
   ]
  },
  {
   "cell_type": "code",
   "execution_count": null,
   "metadata": {},
   "outputs": [],
   "source": [
    "print(f\"Euklid: {sim_euclid(critics,'Lisa Rose','Toby')}\")\n",
    "print(f\"Pearson: {sim_pearson(critics,'Lisa Rose','Toby')}\")"
   ]
  },
  {
   "cell_type": "markdown",
   "metadata": {},
   "source": [
    "**Hier diskussion**"
   ]
  },
  {
   "cell_type": "markdown",
   "metadata": {},
   "source": [
    "__Aufgabe:__\n",
    "0. Schreiben Sie eine Funktion `topMatches(prefs,person,similarity)`, welche für eine beliebige in _critics_ enthaltene Person die Ähnlichkeitswerte zu allen anderen Personen berechnet und in einer geordneten Liste zurück gibt. Der Funktion soll als Übergabeparameter auch die anzuwendende Ähnlichkeitsfunktion (`sim_euclid` oder `sim_pearson`) übergeben werden können. Berechnen Sie mit dieser Funktion für jede Person die *top matches*, zunächst unter Verwendung der euklidischen- dann unter Verwendung der Pearson-Ähnlichkeit.\n",
    "1. Geben Sie mit der implementierten Funktion die *top matches* der Person Toby aus.\n",
    "2. Vergleichen Sie die beiden Ähnlichkeitsmaße. Welches Ähnlichkeitsmaß erscheint Ihnen für diesen Anwendungsfall sinnvoller und warum?"
   ]
  },
  {
   "cell_type": "code",
   "execution_count": null,
   "metadata": {},
   "outputs": [],
   "source": [
    "def top_matches(prefs, person, similarity=sim_pearson):\n",
    "    '''\n",
    "    Returns the best matches from the prefs dictionary.\n",
    "    '''\n",
    "    scores=[(similarity(prefs, person, other), other) \n",
    "                for other in prefs if other != person]\n",
    "    # Sort the list so the highest scores appear at the top\n",
    "    scores.sort()\n",
    "    scores.reverse()\n",
    "    return scores"
   ]
  },
  {
   "cell_type": "code",
   "execution_count": null,
   "metadata": {},
   "outputs": [],
   "source": [
    "print(\"Top matches with euclidean distance\")\n",
    "for person in critics:\n",
    "    print(f\"{person}: {top_matches(critics, person, similarity=sim_euclid)}\")\n",
    "\n",
    "print(\"------------------\")\n",
    "\n",
    "print(\"Top matches with Pearson\")\n",
    "for person in critics:\n",
    "    print(f\"{person}: {top_matches(critics, person, similarity=sim_pearson)}\")"
   ]
  },
  {
   "cell_type": "code",
   "execution_count": null,
   "metadata": {},
   "outputs": [],
   "source": [
    "top_matches(critics, 'Toby', similarity=sim_euclid)"
   ]
  },
  {
   "cell_type": "code",
   "execution_count": null,
   "metadata": {},
   "outputs": [],
   "source": [
    "top_matches(critics, 'Toby', similarity=sim_pearson)"
   ]
  },
  {
   "cell_type": "markdown",
   "metadata": {},
   "source": [
    "##### Vergleich der Ähnlichkeitsmaße\n",
    "\n",
    "Mir erscheint die Pearson Ähnlichkeit sinnvoller, da diese die Bewertungen der Personen relativiert und somit die Bewertungen der Personen besser vergleichbar macht."
   ]
  },
  {
   "cell_type": "markdown",
   "metadata": {},
   "source": [
    "### Berechnung von Empfehlungen mit User basiertem Collaborative Filtering\n",
    "Für die Produkte, die von einer Person noch nicht gekauft wurden, sollen Empfehlungen berechnet werden. Die Empfehlungen können ebenfalls Werte zwischen 1 (wird nicht empfohlen) und 5 (wird stark empfohlen) annehmen. Für die Berechnung der Empfehlung werden die Bewertungen des jeweiligen Produkts durch die anderen Personen herangezogen. Dabei werden die Bewertungen der ähnlichen Personen (d.h. hoher Pearson-Korrelationswert) stärker mit einbezogen als die Bewertungen durch Personen mit einem niedrigen Korrelationswert.\n",
    "\n",
    "__Beispiel:__\n",
    "Toby hat die Filme *The Night Listener*, _Lady in the Water_ und _Just My Luck_ noch nicht gekauft. Für diese Filme soll für Toby eine Empfehlung berechnet werden.\n",
    "In der unten aufgeführten Tabelle enthält die zweite Spalte die _Pearson-Ähnlichkeitswerte_ zwischen Toby und den anderen Personen. Die Spalten 3, 5 und 7 enthalten die Bewertungen der Filme *The Night Listener*, _Lady in the Water_ und _Just My Luck_ durch die anderen Personen. Die Spalten 4, 6 und 8 enthalten die jeweilige Filmbewertung gewichtet (mulipliziert) mit den Ähnlichkeitswerten der jeweiligen Person. Es fällt auf, dass in der Tabelle _Michael_ nicht enthalten ist. Das liegt daran, dass _Michael_ und _Toby_ einen negativen Ähnlichkeitswert aufweisen, d.h. deren Interessen sind gegenläufig. Personen mit negativem Ähnlichkeitswert sollten für Empfehlungen nicht berücksichtigt werden.\n",
    "Die Zeile _Sum_ enthält die Summe aller gewichteten Bewertungen. Aus diesem Wert allein kann die Empfehlung noch nicht abgeleitet werden, da Filme die nur von wenigen Personen bewertet wurden, eine relativ kleine Summe ergeben. Deshalb sollte _Sum_ noch durch die Anzahl der Bewertungen für diesen Film geteilt werden. Oder besser: Nicht durch die Summe der Bewertungen, sondern durch die Summe der relevanten Ähnlichkeitswerte (*KSum*). Der resultierende Empfehlungswert ist in der letzten Zeile eingetragen.\n",
    "\n",
    "\n",
    "\n",
    "<img src=\"https://maucher.home.hdm-stuttgart.de/Pics/recommenderFilmCalculation.PNG\" style=\"width:500px\" align=\"center\">\n",
    "\n",
    "\n"
   ]
  },
  {
   "cell_type": "markdown",
   "metadata": {},
   "source": [
    "__Aufgabe:__\n",
    "Schreiben Sie eine Funktion *getRecommendations(prefs,person,similarity)*, mit der die Empfehlungswerte berechnet werden können und bestimmen Sie die Empfehlungswerte für Toby. Der Funktion wird  \n",
    "\n",
    "* das Dictionary _critics_ mit den Filmbewertungen, \n",
    "* der Name der Person, für welche Empfehlungen berechnet werden sollen\n",
    "* die Methode für die Berechnung der Ähnlichkeit *sim_euclid* oder *sim_pearson*\n",
    "\n",
    "übergeben. Die Methode soll eine geordnete Liste zurück geben. Jedes Listenelement enthält an erster Stelle den berechneten Empfehlungswert und an zweiter Stelle den Namen des Films. Die Liste soll nach Empfehlungswerten absteigend geordnet sein.\n",
    "\n",
    "Testen Sie diese Funktion indem Sie die Empfehlungen für _Toby_ berechnen und mit den Werten in der oben aufgeführten Tabelle vergleichen."
   ]
  },
  {
   "cell_type": "code",
   "execution_count": null,
   "metadata": {},
   "outputs": [],
   "source": [
    "def get_all_items(prefs: dict):\n",
    "  return set([item for person in prefs for item in prefs[person]])\n",
    "\n",
    "def get_recommendations(prefs: dict, person: str, similarity=sim_pearson):\n",
    "  \"\"\"\n",
    "  Gets recommendations for a person using UCF\n",
    "  \"\"\"\n",
    "  result = []\n",
    "  all_items = get_all_items(prefs)\n",
    "  for item in all_items:\n",
    "    ksum = 0\n",
    "    scoreSum = 0\n",
    "\n",
    "    # skip items that are already rated\n",
    "    if item in prefs[person] and prefs[person][item] != 0: continue\n",
    "\n",
    "    for other in prefs:\n",
    "      # skip if the other person is the same as the person\n",
    "      if other == person: continue\n",
    "\n",
    "      # skip if the item does not exist or has not been seen\n",
    "      if item not in prefs[other]: continue\n",
    "\n",
    "      sim = similarity(prefs, person, other)\n",
    "\n",
    "      # skip if the similarity is less than 0\n",
    "      if sim < 0: continue\n",
    "\n",
    "      score = prefs[other][item]\n",
    "\n",
    "      ksum += sim\n",
    "      scoreSum += sim * score\n",
    "    \n",
    "    result.append((scoreSum / ksum, item))\n",
    "\n",
    "  result.sort()\n",
    "  result.reverse()\n",
    "  return result"
   ]
  },
  {
   "cell_type": "code",
   "execution_count": null,
   "metadata": {},
   "outputs": [],
   "source": [
    "print(\"Recommendations for Toby, using Pearson\")\n",
    "print(get_recommendations(critics, 'Toby', similarity=sim_pearson))"
   ]
  },
  {
   "cell_type": "markdown",
   "metadata": {},
   "source": [
    "### Berechnung von Empfehlungen mit Item basiertem Collaborative Filtering\n",
    "In den vorigen Aufgaben wurden Ähnlichkeiten zwischen Personen bestimmt und für Produktempfehlungen benutzt (User basiertes Collaborative Filtering). Jetzt soll die Ähnlichkeit zwischen Produkten berechnet werden und auf der Basis dieser Produktähnlichkeit Empfehlungen berechnet werden (Item basiertes Collaborative Filtering).\n",
    "\n",
    "Dabei sollen die bereits implementierten Ähnlichkeitsfunktion *sim_euclid* und *sim_pearson* sowie die Ähnlichkeeits-Sortierfunktion *topMatches* unverändert eingesetzt werden.\n",
    "\n",
    "__Aufgabe:__\n",
    "\n",
    "1. Implementieren Sie eine Funktion, welche das Bewertungsdictionary *critics* derart transformiert, dass die Funktionen `sim_euclid`, `sim_pearson` und `topMatches` für das Item-basierte CF unverändert eingesetzt werden können. Die transformierte Matrix soll unter dem Namen *transCritics* abgespeichert werden.\n",
    "2. Schreiben Sie eine Funktion `calculateSimilarItems`, die aus der transformierten Matrix *transCritics* ein Dictionary berechnet, welches die Ähnlichkeit zwischen allen Filmen beschreibt. Die Keys des Dictionary sind die Filmnamen. Die Values sind geordnete Listen, welche die Funktion `topMatches` zurückgibt, wenn sie für die Filme (nicht für die User) aufgerufen wird. Dieses Dictionary wird an das aufrufende Programm zurück geben. \n",
    "3. Schreiben Sie eine Funktion `getRecommendedItems`, welche basierend auf dem im unten aufgeführten Beispiel dargestellten Verfahren unter Vorgabe der Bewertungsmatrix und der zu verwendenden Ähnlichkeitsfunktion Produktempfehlungen berechnet.\n",
    "4. Testen Sie die Funktion indem Sie die Empfehlungen für Toby berechnen und mit den Werten in der unten aufgeführten Tabelle vergleichen\n",
    "\n",
    "__Erläuterndes Beispiel:__\n",
    "\n",
    "_Toby_ hat die Filme *The Night Listener*, *Lady in the Water* und *Just My Luck* noch nicht gekauft. Für diese Filme soll für *Toby* eine Empfehlung berechnet werden. Gekauft und bewertet hat *Toby* die Filme *Snakes on a plane*, *Superman Returns* und *You and me and Dupree*. Diese bereits vorhandenen Filme bilden die erste Spalte der unten dargestellten Matrix. In der zweiten Spalte befinden sich _Toby's_ Bewertungen dieser Filme. Die Spalten 3,5 und 7 enthalten die Ähnlichkeitswerte (mit *calculateSimilarItems* unter Verwendung des normierten euklidischen Ähnlichkeitsmaßes berechnet) zwischen den drei von *Toby* noch nicht gekauften Filmen und den drei von _Toby_ bewerteten Filmen. Diese Ähnlichkeitswerte werden jeweils mit _Toby's_ Bewertungen multipliziert. Das Resultat dieser Multiplikation befindet sich in den Spalten 4,6 und 8. Der finale Empfehlungswert für die von _Toby_ noch nicht gekauften Filme wird berechnet in dem in den Spalten 4,6 und 8 zunächst die Summe über die Werte dieser Spalte in den drei oberen Zeilen berechnet wird und durch die Summe über die Werte der Spalten 3,5 und 7 geteilt wird. Im Fall, dass die *Pearson-Korrelation* zwischen den Filmen als Ähnlichkeitswert herangezogen wird, können negative Ähnlichkeitswerte auftreten. Dann soll in die Berechnung eines Empfehlungswert für Film A nur dann die Bewertung von Film B einfließen, wenn der Korrelationswert zwischen beiden $>0$ ist.  \n",
    "\n",
    "\n",
    "<img src=\"https://maucher.home.hdm-stuttgart.de/Pics/recommenderFilmItemBased.PNG\" style=\"width:500px\" align=\"center\">\n"
   ]
  },
  {
   "cell_type": "code",
   "execution_count": null,
   "metadata": {},
   "outputs": [],
   "source": [
    "def transform_prefs(prefs: dict):\n",
    "    '''\n",
    "    Transforms the dictionary of critics to a dictionary of movies\n",
    "    '''\n",
    "    result = {}\n",
    "    for person in prefs:\n",
    "        for movie in prefs[person]:\n",
    "            result.setdefault(movie, {})\n",
    "            result[movie][person] = prefs[person][movie]\n",
    "    return result\n",
    "\n",
    "trans_critics = transform_prefs(critics)\n",
    "\n",
    "print(trans_critics)"
   ]
  },
  {
   "cell_type": "code",
   "execution_count": null,
   "metadata": {},
   "outputs": [],
   "source": [
    "def calculate_similar_items(prefs: dict, similarity=sim_euclid):\n",
    "    '''\n",
    "    Creates a dictionary of items showing which other items they are most similar to.\n",
    "    '''\n",
    "    return {item: top_matches(prefs, item, similarity) for item in prefs}"
   ]
  },
  {
   "cell_type": "code",
   "execution_count": null,
   "metadata": {},
   "outputs": [],
   "source": [
    "def get_recommended_items(prefs: dict, person: str, similarity=sim_euclid):\n",
    "    '''\n",
    "    Gets recommendations for a person using ICF\n",
    "    '''\n",
    "    similarities = calculate_similar_items(prefs, similarity)\n",
    "    result = {}\n",
    "    not_seen = set([item for item in prefs if person not in prefs[item] or prefs[item][person] == 0])\n",
    "\n",
    "    for item in not_seen:\n",
    "        score = 0\n",
    "        simSum = 0\n",
    "        for sim, sim_item in similarities[item]:\n",
    "            # skip if the similarity is less than 0\n",
    "            if sim < 0: continue\n",
    "            # skip if the person has not scored the item we're comparing to\n",
    "            if sim_item in not_seen: continue\n",
    "\n",
    "            # a person's score for the item multiplied by the similarity\n",
    "            adjusted_score = prefs[sim_item][person] * sim\n",
    "            score += adjusted_score\n",
    "            simSum += sim\n",
    "        result[item] = score / (simSum or 1)\n",
    "        # weird... all similarities are less than 0 for pearson\n",
    "    return result\n",
    "    \n",
    "get_recommended_items(trans_critics, 'Toby', similarity=sim_euclid)"
   ]
  },
  {
   "cell_type": "markdown",
   "metadata": {
    "slideshow": {
     "slide_type": "slide"
    }
   },
   "source": [
    "## last.fm Musikempfehlungen\n",
    "\n",
    "__Aufgabe:__\n",
    "\n",
    "1. Installieren Sie das Package pylast. Stellen Sie durch Aufruf der Funktion *network=pylast.LastFMNetwork()* eine Verbindung zu *last.fm* her. Beim Aufruf der Funktion wird die Anmeldung und Authentifizierung durchgeführt. Die Funktion gibt ein Objekt der Klasse *Network* zurück. Über dieses Objekt können Methoden, wie\n",
    "\n",
    "    * *get_artist(\"kuenstlerName\")* (liefert Objekt der Klasse *Artist*)\n",
    "    * *get_album(\"albumName\")* (liefert Objekt der Klasse *Album*)\n",
    "    * *get_track(\"songName\")* (liefert Objekt der Klasse *Track*)\n",
    "    * *get_user(\"userName\"):* (liefert Objekt der Klasse *Tag*)\n",
    "    * usw.\n",
    "    \n",
    "      aufgerufen werden. Die Menge aller verfügbaren Klassen und deren Attribute und Methoden können dem Modul _pylast.py_ entnommen werden.\n",
    "\n",
    "1. Rufen Sie über das oben instanziierte *Network*-Objekt die Methode `get_artist(\"BandIhrerWahl\")` auf.\n",
    "2. Rufen Sie über das oben instanziierte *Artist*-Objekt die Methode `topfans=get_top_fans(10)` auf. Die Methode gibt eine Liste von _User_-Objekt/Gewichtung-Paaren zurück. Die Gewichtungen von Objekten werden in diesem Versuch nicht benötigt. Legen Sie deshalb mit `group=[a.item for a in topfan]` eine Liste an, die nur noch die User Objekte enthält. **Wichtige Anmerkung:** Seit August 2015 gibt es Probleme mit der lastFM API Methode `get_top_fans()` (siehe auch: [pylast issues](https://github.com/pylast/pylast/issues/155s)). Falls am Versuchstermin der Fehler noch nicht behoben ist, können Sie den unten stehenden Code benutzen. Darin wird versucht auf die API-Methode zuzugreifen. Falls das nicht möglich ist, wird eine vordefinierte Liste von Usern angewandt. Diese Liste repräsentiert die *Top Fans* der Band *Slipknot* im Frühjahr 2015. \n",
    "3. Implementieren Sie eine Funktion `createLastfmUserDict()`. Dieser Funktion soll, die oben angelegte Liste von *User*-Objekten _group_ übergeben werden. Für jeden User in *group* sollen die 20 beliebtesten Bands mit der Methode `topartists=get_top_artists()[0:20]` bestimmt werden. Die Methode gibt eine Liste von *Artist*-Objekt/Gewichtung-Paaren zurück. Die Gewichtungen von Objekten werden in diesem Versuch nicht benötigt. Auf das *i.te* *Artist*-Objekt selbst kann mit `topartists[i].item` zugegriffen werden. Die Menge aller Bands, die auf diese Weise gesammelt werden, wird im folgenden mit _AllBands_ bezeichnet. D.h. in *AllBands* befinden sich alle Bands, die für mindestens einen User in *group* zu den Top-20 gehören. Nun soll ein verschachteltes Dictionary mit Namen *userDict* wie folgt angelegt werden:\n",
    "\n",
    "    * Die Keys sind die Namen der _User_-Objekte in _group_. Auf den Namen eines Objekts kann mit `get_name()` zugegriffen werden.\n",
    "    * Die Values sind selbst wieder Dictionaries, deren Keys die Namen der Bands in *AllBands* sind. Achten Sie auch hier darauf, dass Sie nicht das *Artist*-Objekt selbst, sondern dessen Namen als Key verwenden. \n",
    "    * Für den User *a* und die Band *b* ist der Value `userDict[a][b]= 1`, falls *b* zu den Top-20 des Users *a* gehört. Andernfalls ist `userDict[a][b]= 0`. \n",
    "    \n",
    "    Das derart angelegte Dictionary soll von der Funktion zurückgegeben werden. \n",
    "4. Wählen Sie jetzt einen beliebigen User aus *group*. Bestimmen Sie zu diesem User die ähnlichsten User in *group* durch Anwendung der im ersten Teilversuch implementierten Funktion `topMatches()`. Der Funktion wird das angelegte *userDict* und der Name des gewählten Users übergeben. Als Ähnlichkeitsmaß soll die euklidische Metrik angewandt werden.\n",
    "5. Bestimmen Sie dann für den gewählten User Band-Empfehlungen durch Anwendung der im ersten Teilversuch implementierten Funktion `getRecommendations()`. Der Funktion wird das angelegte *userDict* und der Name des gewählten Users übergeben. Als Ähnlichkeitsmaß soll die euklidische Metrik, danach die Russel_Rao Metrik, angewandt werden.     \n",
    "6. Diskutieren Sie das Ergebnis"
   ]
  },
  {
   "cell_type": "code",
   "execution_count": null,
   "metadata": {},
   "outputs": [],
   "source": [
    "import pylast\n",
    "nw=pylast.LastFMNetwork(api_key = \"993a5bd9d79a98a53677570368d55acd\",api_secret = \"9b8de0b57903ac007cdd8ec9003b341e\",username = \"pythonlab\")\n",
    "band='Slipknot'\n",
    "art1 = nw.get_artist(band)\n",
    "print(\"Most similar (as calculated by lastFM) for artist: \",band)\n",
    "for it in art1.get_similar(5):\n",
    "    print(\"%3.3f \\t %s\"%(it.match, it.item))\n",
    "try:\n",
    "    topfan = art1.get_top_fans()\n",
    "    group = [a.item for a in topfan]\n",
    "except:\n",
    "    print(\"\\nlastFM API Error for method get_top_fans\\nApply predefined group of users\")\n",
    "    usernames=['BrunoJoS','DPREBOYE','MPistol40','NemoNightfall','SkyRif','Wags1382','Znapsen','cortapsyco','emill_67','sattuviitana']\n",
    "    group=[]\n",
    "    for u in usernames:\n",
    "        u1 = nw.get_user(u)\n",
    "        group.append(u1)"
   ]
  },
  {
   "cell_type": "code",
   "execution_count": null,
   "metadata": {},
   "outputs": [],
   "source": [
    "from typing import List\n",
    "from pylast import User\n",
    "\n",
    "def create_last_fm_user_dict(users: List[User]):\n",
    "  topartists = {u.get_name(): [band.item.get_name() for band in u.get_top_artists(limit=20)] for u in users}\n",
    "  all_bands = set((band for bandlist in topartists.values() for band in bandlist))\n",
    "  user_dict = {}\n",
    "  for user in topartists:\n",
    "    user_dict.setdefault(user, {})\n",
    "    for band in all_bands:\n",
    "      user_dict[user][band] = 1 if band in topartists[user] else 0\n",
    "\n",
    "  return user_dict\n",
    "\n",
    "user_dict = create_last_fm_user_dict(group)"
   ]
  },
  {
   "cell_type": "code",
   "execution_count": null,
   "metadata": {},
   "outputs": [],
   "source": [
    "user = 'BrunoJoS'\n",
    "matches = top_matches(user_dict, user, similarity=sim_euclid)\n",
    "print(matches)"
   ]
  },
  {
   "cell_type": "code",
   "execution_count": null,
   "metadata": {},
   "outputs": [],
   "source": [
    "recommendations_euclid = get_recommendations(user_dict, user, similarity=sim_euclid)\n",
    "print(recommendations_euclid)"
   ]
  },
  {
   "cell_type": "code",
   "execution_count": null,
   "metadata": {},
   "outputs": [],
   "source": [
    "recommendations_russrao = get_recommendations(user_dict, user, similarity=sim_RusselRao)\n",
    "print(recommendations_russrao)"
   ]
  },
  {
   "cell_type": "markdown",
   "metadata": {},
   "source": [
    "## T-SNE Visualisierung"
   ]
  },
  {
   "cell_type": "code",
   "execution_count": 98,
   "metadata": {},
   "outputs": [
    {
     "name": "stdout",
     "output_type": "stream",
     "text": [
      "(150, 10)\n"
     ]
    },
    {
     "name": "stderr",
     "output_type": "stream",
     "text": [
      "/opt/conda/lib/python3.10/site-packages/sklearn/manifold/_t_sne.py:996: FutureWarning:\n",
      "\n",
      "The PCA initialization in TSNE will change to have the standard deviation of PC1 equal to 1e-4 in 1.2. This will ensure better convergence.\n",
      "\n"
     ]
    },
    {
     "name": "stdout",
     "output_type": "stream",
     "text": [
      "(150, 2)\n"
     ]
    },
    {
     "data": {
      "application/vnd.plotly.v1+json": {
       "config": {
        "plotlyServerURL": "https://plot.ly"
       },
       "data": [
        {
         "customdata": [
          [
           "Royal Blood"
          ],
          [
           "Freestyle"
          ],
          [
           "Pendulum"
          ],
          [
           "Four Year Strong"
          ],
          [
           "Turmion Kätilöt"
          ],
          [
           "Dimmu Borgir"
          ],
          [
           "Radiohead"
          ],
          [
           "AFI"
          ],
          [
           "Circa Survive"
          ],
          [
           "Disturbed"
          ],
          [
           "Mumford & Sons"
          ],
          [
           "Mogwai"
          ],
          [
           "Die Antwoord"
          ],
          [
           "Tool"
          ],
          [
           "blink-182"
          ],
          [
           "Bayside"
          ],
          [
           "Parkway Drive"
          ],
          [
           "Epic Rap Battles of History"
          ],
          [
           "DIR EN GREY"
          ],
          [
           "Misfits"
          ],
          [
           "Saosin"
          ],
          [
           "Team Sleep"
          ],
          [
           "Evanescence"
          ],
          [
           "Limp Bizkit"
          ],
          [
           "Nobuo Uematsu"
          ],
          [
           "Three Days Grace"
          ],
          [
           "Energy"
          ],
          [
           "Stam1na"
          ],
          [
           "M.I.A."
          ],
          [
           "Madonna"
          ],
          [
           "Breaking Benjamin"
          ],
          [
           "Katy Perry"
          ],
          [
           "Red Hot Chili Peppers"
          ],
          [
           "Lamb of God"
          ],
          [
           "deadmau5"
          ],
          [
           "Deftones"
          ],
          [
           "Tenacious D"
          ],
          [
           "Trivium"
          ],
          [
           "Gyllene Tider"
          ],
          [
           "Alexisonfire"
          ],
          [
           "Bring Me the Horizon"
          ],
          [
           "Howard Shore"
          ],
          [
           "Becoming the Archetype"
          ],
          [
           "Powerwolf"
          ],
          [
           "Amorphis"
          ],
          [
           "Rammstein"
          ],
          [
           "Pitty"
          ],
          [
           "Seether"
          ],
          [
           "Black Veil Brides"
          ],
          [
           "Dr. Dre"
          ],
          [
           "Slipknot"
          ],
          [
           "The Band"
          ],
          [
           "Queens of the Stone Age"
          ],
          [
           "System of a Down"
          ],
          [
           "Sum 41"
          ],
          [
           "Magnus Uggla"
          ],
          [
           "The Wonder Years"
          ],
          [
           "Motion City Soundtrack"
          ],
          [
           "Ke$ha"
          ],
          [
           "Pentakill"
          ],
          [
           "White Zombie"
          ],
          [
           "Ween"
          ],
          [
           "P.D.P."
          ],
          [
           "Calvin Harris"
          ],
          [
           "Children of Bodom"
          ],
          [
           "Beach House"
          ],
          [
           "The White Stripes"
          ],
          [
           "36 Crazyfists"
          ],
          [
           "Ben Howard"
          ],
          [
           "Foo Fighters"
          ],
          [
           "Cradle of Filth"
          ],
          [
           "Pantera"
          ],
          [
           "Green Day"
          ],
          [
           "Pink Floyd"
          ],
          [
           "Flo Rida"
          ],
          [
           "Daughter"
          ],
          [
           "Queen"
          ],
          [
           "DragonForce"
          ],
          [
           "Soilwork"
          ],
          [
           "Volbeat"
          ],
          [
           "Marina and the Diamonds"
          ],
          [
           "Sonata Arctica"
          ],
          [
           "Cat Power"
          ],
          [
           "Wu-Tang Clan"
          ],
          [
           "A Perfect Circle"
          ],
          [
           "Coheed and Cambria"
          ],
          [
           "Linkin Park"
          ],
          [
           "Wintersun"
          ],
          [
           "Nine Inch Nails"
          ],
          [
           "Evergreen Terrace"
          ],
          [
           "Lindemann"
          ],
          [
           "Sabaton"
          ],
          [
           "Bullet for My Valentine"
          ],
          [
           "Mustasch"
          ],
          [
           "Sick Puppies"
          ],
          [
           "James Blake"
          ],
          [
           "Lacuna Coil"
          ],
          [
           "Theory of a Deadman"
          ],
          [
           "Dark Tranquillity"
          ],
          [
           "Cruel Hand"
          ],
          [
           "Dmitri Shostakovich"
          ],
          [
           "Warpaint"
          ],
          [
           "Iron Maiden"
          ],
          [
           "Memphis May Fire"
          ],
          [
           "Scar Symmetry"
          ],
          [
           "Damien Rice"
          ],
          [
           "30 Seconds to Mars"
          ],
          [
           "Papa Roach"
          ],
          [
           "The Killers"
          ],
          [
           "My Chemical Romance"
          ],
          [
           "In Flames"
          ],
          [
           "Stone Sour"
          ],
          [
           "Soulfly"
          ],
          [
           "Godsmack"
          ],
          [
           "Nightwish"
          ],
          [
           "Five Finger Death Punch"
          ],
          [
           "All Time Low"
          ],
          [
           "Billy Talent"
          ],
          [
           "Muse"
          ],
          [
           "Arch Enemy"
          ],
          [
           "Amon Amarth"
          ],
          [
           "Halestorm"
          ],
          [
           "Hans Zimmer"
          ],
          [
           "Killswitch Engage"
          ],
          [
           "Black Label Society"
          ],
          [
           "Nirvana"
          ],
          [
           "N.W.A"
          ],
          [
           "Atoms for Peace"
          ],
          [
           "Rage Against the Machine"
          ],
          [
           "New Found Glory"
          ],
          [
           "Boston"
          ],
          [
           "Metallica"
          ],
          [
           "Panic! at the Disco"
          ],
          [
           "Rob Zombie"
          ],
          [
           "Electric Light Orchestra"
          ],
          [
           "Dope"
          ],
          [
           "Avenged Sevenfold"
          ],
          [
           "Hozier"
          ],
          [
           "Fall Out Boy"
          ],
          [
           "Demon Hunter"
          ],
          [
           "The Dear Hunter"
          ],
          [
           "Klamydia"
          ],
          [
           "Gallows"
          ],
          [
           "Shinedown"
          ],
          [
           "Korn"
          ],
          [
           "Machine Head"
          ],
          [
           "Coldplay"
          ],
          [
           "Krewella"
          ],
          [
           "Arctic Monkeys"
          ],
          [
           "Oh, Sleeper"
          ]
         ],
         "hovertemplate": "x=%{x}<br>y=%{y}<br>band=%{customdata[0]}<extra></extra>",
         "legendgroup": "",
         "marker": {
          "color": "#636efa",
          "symbol": "circle"
         },
         "mode": "markers",
         "name": "",
         "orientation": "v",
         "showlegend": false,
         "type": "scatter",
         "x": [
          -5.343132019042969,
          3.5406038761138916,
          4.921568393707275,
          1.7971317768096924,
          -0.43488600850105286,
          7.536632061004639,
          -5.56488037109375,
          1.7427524328231812,
          2.6201586723327637,
          -3.7490737438201904,
          -8.492724418640137,
          -4.155561923980713,
          -4.646412372589111,
          2.3039886951446533,
          2.804863929748535,
          2.183490514755249,
          2.859194755554199,
          -4.155510902404785,
          -4.869238376617432,
          1.5733722448349,
          2.1977710723876953,
          1.6316899061203003,
          -3.5014045238494873,
          3.2006187438964844,
          7.048371315002441,
          -6.845827102661133,
          2.7099976539611816,
          -0.809858500957489,
          -5.684659481048584,
          -5.683404445648193,
          -8.123429298400879,
          7.242561340332031,
          -1.1564146280288696,
          2.662316083908081,
          -3.5115156173706055,
          1.9157438278198242,
          1.715715765953064,
          -2.386052131652832,
          3.81766939163208,
          -8.428633689880371,
          -8.646395683288574,
          1.5068295001983643,
          7.601191520690918,
          1.752767562866211,
          -0.6466995477676392,
          1.4729244709014893,
          -5.854820251464844,
          -4.059615135192871,
          7.601191520690918,
          -4.492981433868408,
          -4.193679332733154,
          -4.492981433868408,
          -5.854820251464844,
          -4.721311092376709,
          -5.854820251464844,
          4.0872955322265625,
          2.183490514755249,
          2.5391275882720947,
          7.601191520690918,
          1.6726601123809814,
          4.1338396072387695,
          -4.016953468322754,
          4.1338396072387695,
          7.601191520690918,
          -0.6466995477676392,
          -4.92948579788208,
          -4.92948579788208,
          2.1402580738067627,
          -8.660879135131836,
          -4.991734027862549,
          7.733631610870361,
          3.9127256870269775,
          -5.434079647064209,
          -2.049484968185425,
          7.015044689178467,
          -3.928231954574585,
          -0.3680948317050934,
          1.388373613357544,
          1.7362642288208008,
          -0.31995517015457153,
          7.250785827636719,
          -0.5617867112159729,
          -3.9412758350372314,
          -4.776455879211426,
          2.308908462524414,
          7.34946346282959,
          -5.788782596588135,
          1.382538914680481,
          1.6738240718841553,
          2.6620421409606934,
          -0.7410182356834412,
          0.703145444393158,
          -8.03641414642334,
          3.6434757709503174,
          -8.03641414642334,
          -3.770825147628784,
          6.722896575927734,
          -3.5384645462036133,
          2.023184299468994,
          2.396721839904785,
          2.023184299468994,
          -4.153350830078125,
          -3.5384645462036133,
          -8.13420295715332,
          2.023184299468994,
          -4.153350830078125,
          -6.845827102661133,
          -5.788412094116211,
          -5.317452430725098,
          2.396721839904785,
          0.6881946921348572,
          -9.311138153076172,
          2.023184299468994,
          3.6434757709503174,
          -0.7334899306297302,
          -1.9249716997146606,
          -8.13420295715332,
          -8.13420295715332,
          -4.991734027862549,
          1.5848205089569092,
          1.5848205089569092,
          6.8758978843688965,
          1.5848205089569092,
          6.8758978843688965,
          3.6434757709503174,
          -4.153350830078125,
          -3.7484397888183594,
          -4.153350830078125,
          -1.2485216856002808,
          1.5900944471359253,
          -3.416175127029419,
          1.1934782266616821,
          6.768973350524902,
          -3.9430439472198486,
          -3.9430439472198486,
          3.6434757709503174,
          1.4225471019744873,
          -4.745993614196777,
          1.8379268646240234,
          6.663891792297363,
          1.8379268646240234,
          -0.3371013402938843,
          1.8379268646240234,
          -3.9430439472198486,
          0.245459645986557,
          3.4781606197357178,
          -5.318845272064209,
          6.6721978187561035,
          -5.206834316253662,
          -8.591304779052734
         ],
         "xaxis": "x",
         "y": [
          0.4302588999271393,
          4.245042324066162,
          -1.1338387727737427,
          -7.63139009475708,
          3.1141581535339355,
          -1.015392541885376,
          0.022552574053406715,
          -7.5219902992248535,
          -7.5045390129089355,
          7.749897003173828,
          3.750335693359375,
          -5.133848667144775,
          -4.847024917602539,
          -0.7259266972541809,
          -7.3992509841918945,
          -7.736109733581543,
          -7.109189510345459,
          7.407832145690918,
          -4.307281017303467,
          -7.175691604614258,
          -7.063998222351074,
          -0.43988093733787537,
          7.586450099945068,
          1.7282054424285889,
          -1.977495789527893,
          2.049586534500122,
          -6.862867832183838,
          2.9420926570892334,
          0.5067891478538513,
          0.5073307156562805,
          3.7387125492095947,
          -0.939702033996582,
          -0.22828029096126556,
          5.877017021179199,
          7.536383152008057,
          -0.8295590877532959,
          7.438421249389648,
          3.511284112930298,
          4.365804195404053,
          3.1327478885650635,
          3.364389657974243,
          7.73546028137207,
          -1.7042536735534668,
          7.731938362121582,
          3.1240110397338867,
          3.6189005374908447,
          0.1609336882829666,
          7.662029266357422,
          -1.7042536735534668,
          -5.156802654266357,
          3.3995230197906494,
          -5.156802654266357,
          0.1609336882829666,
          3.2764627933502197,
          0.1609336882829666,
          4.218799591064453,
          -7.736109733581543,
          -7.69124698638916,
          -1.7042536735534668,
          7.791376113891602,
          3.9858896732330322,
          7.695056915283203,
          3.9858896732330322,
          -1.7042536735534668,
          3.1240110397338867,
          -4.821686744689941,
          -4.821686744689941,
          -0.8451306223869324,
          3.4351534843444824,
          5.807906627655029,
          -1.1799883842468262,
          4.3452277183532715,
          0.47084689140319824,
          6.514284133911133,
          -1.9527686834335327,
          -4.8735456466674805,
          2.7275679111480713,
          7.516876697540283,
          -0.7166833877563477,
          2.882337808609009,
          -0.9414005875587463,
          2.640425443649292,
          -4.81049108505249,
          -4.264224052429199,
          -0.5107433199882507,
          -6.448239326477051,
          2.8714139461517334,
          7.504209995269775,
          -0.6202671527862549,
          -6.748720169067383,
          2.7178473472595215,
          5.869243621826172,
          3.6619532108306885,
          3.7913401126861572,
          3.6619532108306885,
          -4.571501731872559,
          -1.6885343790054321,
          7.066206932067871,
          -0.25403931736946106,
          -6.491290092468262,
          -0.25403931736946106,
          -4.075779438018799,
          7.066206932067871,
          3.2525646686553955,
          -0.25403931736946106,
          -4.075779438018799,
          2.049586534500122,
          2.871227264404297,
          0.2468247264623642,
          -6.491290092468262,
          1.0856105089187622,
          7.882450580596924,
          -0.25403931736946106,
          3.7913401126861572,
          2.7102928161621094,
          5.084109306335449,
          3.2525646686553955,
          3.2525646686553955,
          5.807906627655029,
          7.408054351806641,
          7.408054351806641,
          -0.9916716814041138,
          7.408054351806641,
          -0.9916716814041138,
          3.7913401126861572,
          -4.075779438018799,
          -4.487545967102051,
          -4.075779438018799,
          -0.33713045716285706,
          -7.082294940948486,
          7.316003322601318,
          5.1448073387146,
          -1.7556296586990356,
          7.075605869293213,
          7.075605869293213,
          3.7913401126861572,
          3.834202527999878,
          -4.142886161804199,
          -6.644784927368164,
          -1.3775275945663452,
          -6.644784927368164,
          2.8478498458862305,
          -6.644784927368164,
          7.075605869293213,
          5.032839775085449,
          4.175563812255859,
          0.24282261729240417,
          -1.3151832818984985,
          -2.465986490249634,
          3.6705057621002197
         ],
         "yaxis": "y"
        }
       ],
       "layout": {
        "legend": {
         "tracegroupgap": 0
        },
        "margin": {
         "t": 60
        },
        "template": {
         "data": {
          "bar": [
           {
            "error_x": {
             "color": "#2a3f5f"
            },
            "error_y": {
             "color": "#2a3f5f"
            },
            "marker": {
             "line": {
              "color": "#E5ECF6",
              "width": 0.5
             },
             "pattern": {
              "fillmode": "overlay",
              "size": 10,
              "solidity": 0.2
             }
            },
            "type": "bar"
           }
          ],
          "barpolar": [
           {
            "marker": {
             "line": {
              "color": "#E5ECF6",
              "width": 0.5
             },
             "pattern": {
              "fillmode": "overlay",
              "size": 10,
              "solidity": 0.2
             }
            },
            "type": "barpolar"
           }
          ],
          "carpet": [
           {
            "aaxis": {
             "endlinecolor": "#2a3f5f",
             "gridcolor": "white",
             "linecolor": "white",
             "minorgridcolor": "white",
             "startlinecolor": "#2a3f5f"
            },
            "baxis": {
             "endlinecolor": "#2a3f5f",
             "gridcolor": "white",
             "linecolor": "white",
             "minorgridcolor": "white",
             "startlinecolor": "#2a3f5f"
            },
            "type": "carpet"
           }
          ],
          "choropleth": [
           {
            "colorbar": {
             "outlinewidth": 0,
             "ticks": ""
            },
            "type": "choropleth"
           }
          ],
          "contour": [
           {
            "colorbar": {
             "outlinewidth": 0,
             "ticks": ""
            },
            "colorscale": [
             [
              0,
              "#0d0887"
             ],
             [
              0.1111111111111111,
              "#46039f"
             ],
             [
              0.2222222222222222,
              "#7201a8"
             ],
             [
              0.3333333333333333,
              "#9c179e"
             ],
             [
              0.4444444444444444,
              "#bd3786"
             ],
             [
              0.5555555555555556,
              "#d8576b"
             ],
             [
              0.6666666666666666,
              "#ed7953"
             ],
             [
              0.7777777777777778,
              "#fb9f3a"
             ],
             [
              0.8888888888888888,
              "#fdca26"
             ],
             [
              1,
              "#f0f921"
             ]
            ],
            "type": "contour"
           }
          ],
          "contourcarpet": [
           {
            "colorbar": {
             "outlinewidth": 0,
             "ticks": ""
            },
            "type": "contourcarpet"
           }
          ],
          "heatmap": [
           {
            "colorbar": {
             "outlinewidth": 0,
             "ticks": ""
            },
            "colorscale": [
             [
              0,
              "#0d0887"
             ],
             [
              0.1111111111111111,
              "#46039f"
             ],
             [
              0.2222222222222222,
              "#7201a8"
             ],
             [
              0.3333333333333333,
              "#9c179e"
             ],
             [
              0.4444444444444444,
              "#bd3786"
             ],
             [
              0.5555555555555556,
              "#d8576b"
             ],
             [
              0.6666666666666666,
              "#ed7953"
             ],
             [
              0.7777777777777778,
              "#fb9f3a"
             ],
             [
              0.8888888888888888,
              "#fdca26"
             ],
             [
              1,
              "#f0f921"
             ]
            ],
            "type": "heatmap"
           }
          ],
          "heatmapgl": [
           {
            "colorbar": {
             "outlinewidth": 0,
             "ticks": ""
            },
            "colorscale": [
             [
              0,
              "#0d0887"
             ],
             [
              0.1111111111111111,
              "#46039f"
             ],
             [
              0.2222222222222222,
              "#7201a8"
             ],
             [
              0.3333333333333333,
              "#9c179e"
             ],
             [
              0.4444444444444444,
              "#bd3786"
             ],
             [
              0.5555555555555556,
              "#d8576b"
             ],
             [
              0.6666666666666666,
              "#ed7953"
             ],
             [
              0.7777777777777778,
              "#fb9f3a"
             ],
             [
              0.8888888888888888,
              "#fdca26"
             ],
             [
              1,
              "#f0f921"
             ]
            ],
            "type": "heatmapgl"
           }
          ],
          "histogram": [
           {
            "marker": {
             "pattern": {
              "fillmode": "overlay",
              "size": 10,
              "solidity": 0.2
             }
            },
            "type": "histogram"
           }
          ],
          "histogram2d": [
           {
            "colorbar": {
             "outlinewidth": 0,
             "ticks": ""
            },
            "colorscale": [
             [
              0,
              "#0d0887"
             ],
             [
              0.1111111111111111,
              "#46039f"
             ],
             [
              0.2222222222222222,
              "#7201a8"
             ],
             [
              0.3333333333333333,
              "#9c179e"
             ],
             [
              0.4444444444444444,
              "#bd3786"
             ],
             [
              0.5555555555555556,
              "#d8576b"
             ],
             [
              0.6666666666666666,
              "#ed7953"
             ],
             [
              0.7777777777777778,
              "#fb9f3a"
             ],
             [
              0.8888888888888888,
              "#fdca26"
             ],
             [
              1,
              "#f0f921"
             ]
            ],
            "type": "histogram2d"
           }
          ],
          "histogram2dcontour": [
           {
            "colorbar": {
             "outlinewidth": 0,
             "ticks": ""
            },
            "colorscale": [
             [
              0,
              "#0d0887"
             ],
             [
              0.1111111111111111,
              "#46039f"
             ],
             [
              0.2222222222222222,
              "#7201a8"
             ],
             [
              0.3333333333333333,
              "#9c179e"
             ],
             [
              0.4444444444444444,
              "#bd3786"
             ],
             [
              0.5555555555555556,
              "#d8576b"
             ],
             [
              0.6666666666666666,
              "#ed7953"
             ],
             [
              0.7777777777777778,
              "#fb9f3a"
             ],
             [
              0.8888888888888888,
              "#fdca26"
             ],
             [
              1,
              "#f0f921"
             ]
            ],
            "type": "histogram2dcontour"
           }
          ],
          "mesh3d": [
           {
            "colorbar": {
             "outlinewidth": 0,
             "ticks": ""
            },
            "type": "mesh3d"
           }
          ],
          "parcoords": [
           {
            "line": {
             "colorbar": {
              "outlinewidth": 0,
              "ticks": ""
             }
            },
            "type": "parcoords"
           }
          ],
          "pie": [
           {
            "automargin": true,
            "type": "pie"
           }
          ],
          "scatter": [
           {
            "fillpattern": {
             "fillmode": "overlay",
             "size": 10,
             "solidity": 0.2
            },
            "type": "scatter"
           }
          ],
          "scatter3d": [
           {
            "line": {
             "colorbar": {
              "outlinewidth": 0,
              "ticks": ""
             }
            },
            "marker": {
             "colorbar": {
              "outlinewidth": 0,
              "ticks": ""
             }
            },
            "type": "scatter3d"
           }
          ],
          "scattercarpet": [
           {
            "marker": {
             "colorbar": {
              "outlinewidth": 0,
              "ticks": ""
             }
            },
            "type": "scattercarpet"
           }
          ],
          "scattergeo": [
           {
            "marker": {
             "colorbar": {
              "outlinewidth": 0,
              "ticks": ""
             }
            },
            "type": "scattergeo"
           }
          ],
          "scattergl": [
           {
            "marker": {
             "colorbar": {
              "outlinewidth": 0,
              "ticks": ""
             }
            },
            "type": "scattergl"
           }
          ],
          "scattermapbox": [
           {
            "marker": {
             "colorbar": {
              "outlinewidth": 0,
              "ticks": ""
             }
            },
            "type": "scattermapbox"
           }
          ],
          "scatterpolar": [
           {
            "marker": {
             "colorbar": {
              "outlinewidth": 0,
              "ticks": ""
             }
            },
            "type": "scatterpolar"
           }
          ],
          "scatterpolargl": [
           {
            "marker": {
             "colorbar": {
              "outlinewidth": 0,
              "ticks": ""
             }
            },
            "type": "scatterpolargl"
           }
          ],
          "scatterternary": [
           {
            "marker": {
             "colorbar": {
              "outlinewidth": 0,
              "ticks": ""
             }
            },
            "type": "scatterternary"
           }
          ],
          "surface": [
           {
            "colorbar": {
             "outlinewidth": 0,
             "ticks": ""
            },
            "colorscale": [
             [
              0,
              "#0d0887"
             ],
             [
              0.1111111111111111,
              "#46039f"
             ],
             [
              0.2222222222222222,
              "#7201a8"
             ],
             [
              0.3333333333333333,
              "#9c179e"
             ],
             [
              0.4444444444444444,
              "#bd3786"
             ],
             [
              0.5555555555555556,
              "#d8576b"
             ],
             [
              0.6666666666666666,
              "#ed7953"
             ],
             [
              0.7777777777777778,
              "#fb9f3a"
             ],
             [
              0.8888888888888888,
              "#fdca26"
             ],
             [
              1,
              "#f0f921"
             ]
            ],
            "type": "surface"
           }
          ],
          "table": [
           {
            "cells": {
             "fill": {
              "color": "#EBF0F8"
             },
             "line": {
              "color": "white"
             }
            },
            "header": {
             "fill": {
              "color": "#C8D4E3"
             },
             "line": {
              "color": "white"
             }
            },
            "type": "table"
           }
          ]
         },
         "layout": {
          "annotationdefaults": {
           "arrowcolor": "#2a3f5f",
           "arrowhead": 0,
           "arrowwidth": 1
          },
          "autotypenumbers": "strict",
          "coloraxis": {
           "colorbar": {
            "outlinewidth": 0,
            "ticks": ""
           }
          },
          "colorscale": {
           "diverging": [
            [
             0,
             "#8e0152"
            ],
            [
             0.1,
             "#c51b7d"
            ],
            [
             0.2,
             "#de77ae"
            ],
            [
             0.3,
             "#f1b6da"
            ],
            [
             0.4,
             "#fde0ef"
            ],
            [
             0.5,
             "#f7f7f7"
            ],
            [
             0.6,
             "#e6f5d0"
            ],
            [
             0.7,
             "#b8e186"
            ],
            [
             0.8,
             "#7fbc41"
            ],
            [
             0.9,
             "#4d9221"
            ],
            [
             1,
             "#276419"
            ]
           ],
           "sequential": [
            [
             0,
             "#0d0887"
            ],
            [
             0.1111111111111111,
             "#46039f"
            ],
            [
             0.2222222222222222,
             "#7201a8"
            ],
            [
             0.3333333333333333,
             "#9c179e"
            ],
            [
             0.4444444444444444,
             "#bd3786"
            ],
            [
             0.5555555555555556,
             "#d8576b"
            ],
            [
             0.6666666666666666,
             "#ed7953"
            ],
            [
             0.7777777777777778,
             "#fb9f3a"
            ],
            [
             0.8888888888888888,
             "#fdca26"
            ],
            [
             1,
             "#f0f921"
            ]
           ],
           "sequentialminus": [
            [
             0,
             "#0d0887"
            ],
            [
             0.1111111111111111,
             "#46039f"
            ],
            [
             0.2222222222222222,
             "#7201a8"
            ],
            [
             0.3333333333333333,
             "#9c179e"
            ],
            [
             0.4444444444444444,
             "#bd3786"
            ],
            [
             0.5555555555555556,
             "#d8576b"
            ],
            [
             0.6666666666666666,
             "#ed7953"
            ],
            [
             0.7777777777777778,
             "#fb9f3a"
            ],
            [
             0.8888888888888888,
             "#fdca26"
            ],
            [
             1,
             "#f0f921"
            ]
           ]
          },
          "colorway": [
           "#636efa",
           "#EF553B",
           "#00cc96",
           "#ab63fa",
           "#FFA15A",
           "#19d3f3",
           "#FF6692",
           "#B6E880",
           "#FF97FF",
           "#FECB52"
          ],
          "font": {
           "color": "#2a3f5f"
          },
          "geo": {
           "bgcolor": "white",
           "lakecolor": "white",
           "landcolor": "#E5ECF6",
           "showlakes": true,
           "showland": true,
           "subunitcolor": "white"
          },
          "hoverlabel": {
           "align": "left"
          },
          "hovermode": "closest",
          "mapbox": {
           "style": "light"
          },
          "paper_bgcolor": "white",
          "plot_bgcolor": "#E5ECF6",
          "polar": {
           "angularaxis": {
            "gridcolor": "white",
            "linecolor": "white",
            "ticks": ""
           },
           "bgcolor": "#E5ECF6",
           "radialaxis": {
            "gridcolor": "white",
            "linecolor": "white",
            "ticks": ""
           }
          },
          "scene": {
           "xaxis": {
            "backgroundcolor": "#E5ECF6",
            "gridcolor": "white",
            "gridwidth": 2,
            "linecolor": "white",
            "showbackground": true,
            "ticks": "",
            "zerolinecolor": "white"
           },
           "yaxis": {
            "backgroundcolor": "#E5ECF6",
            "gridcolor": "white",
            "gridwidth": 2,
            "linecolor": "white",
            "showbackground": true,
            "ticks": "",
            "zerolinecolor": "white"
           },
           "zaxis": {
            "backgroundcolor": "#E5ECF6",
            "gridcolor": "white",
            "gridwidth": 2,
            "linecolor": "white",
            "showbackground": true,
            "ticks": "",
            "zerolinecolor": "white"
           }
          },
          "shapedefaults": {
           "line": {
            "color": "#2a3f5f"
           }
          },
          "ternary": {
           "aaxis": {
            "gridcolor": "white",
            "linecolor": "white",
            "ticks": ""
           },
           "baxis": {
            "gridcolor": "white",
            "linecolor": "white",
            "ticks": ""
           },
           "bgcolor": "#E5ECF6",
           "caxis": {
            "gridcolor": "white",
            "linecolor": "white",
            "ticks": ""
           }
          },
          "title": {
           "x": 0.05
          },
          "xaxis": {
           "automargin": true,
           "gridcolor": "white",
           "linecolor": "white",
           "ticks": "",
           "title": {
            "standoff": 15
           },
           "zerolinecolor": "white",
           "zerolinewidth": 2
          },
          "yaxis": {
           "automargin": true,
           "gridcolor": "white",
           "linecolor": "white",
           "ticks": "",
           "title": {
            "standoff": 15
           },
           "zerolinecolor": "white",
           "zerolinewidth": 2
          }
         }
        },
        "xaxis": {
         "anchor": "y",
         "domain": [
          0,
          1
         ],
         "title": {
          "text": "x"
         }
        },
        "yaxis": {
         "anchor": "x",
         "domain": [
          0,
          1
         ],
         "title": {
          "text": "y"
         }
        }
       }
      },
      "text/html": [
       "<div>                            <div id=\"af1e713d-f675-43a5-987c-4b1c64f583c6\" class=\"plotly-graph-div\" style=\"height:525px; width:100%;\"></div>            <script type=\"text/javascript\">                require([\"plotly\"], function(Plotly) {                    window.PLOTLYENV=window.PLOTLYENV || {};                                    if (document.getElementById(\"af1e713d-f675-43a5-987c-4b1c64f583c6\")) {                    Plotly.newPlot(                        \"af1e713d-f675-43a5-987c-4b1c64f583c6\",                        [{\"customdata\":[[\"Royal Blood\"],[\"Freestyle\"],[\"Pendulum\"],[\"Four Year Strong\"],[\"Turmion K\\u00e4til\\u00f6t\"],[\"Dimmu Borgir\"],[\"Radiohead\"],[\"AFI\"],[\"Circa Survive\"],[\"Disturbed\"],[\"Mumford & Sons\"],[\"Mogwai\"],[\"Die Antwoord\"],[\"Tool\"],[\"blink-182\"],[\"Bayside\"],[\"Parkway Drive\"],[\"Epic Rap Battles of History\"],[\"DIR EN GREY\"],[\"Misfits\"],[\"Saosin\"],[\"Team Sleep\"],[\"Evanescence\"],[\"Limp Bizkit\"],[\"Nobuo Uematsu\"],[\"Three Days Grace\"],[\"Energy\"],[\"Stam1na\"],[\"M.I.A.\"],[\"Madonna\"],[\"Breaking Benjamin\"],[\"Katy Perry\"],[\"Red Hot Chili Peppers\"],[\"Lamb of God\"],[\"deadmau5\"],[\"Deftones\"],[\"Tenacious D\"],[\"Trivium\"],[\"Gyllene Tider\"],[\"Alexisonfire\"],[\"Bring Me the Horizon\"],[\"Howard Shore\"],[\"Becoming the Archetype\"],[\"Powerwolf\"],[\"Amorphis\"],[\"Rammstein\"],[\"Pitty\"],[\"Seether\"],[\"Black Veil Brides\"],[\"Dr. Dre\"],[\"Slipknot\"],[\"The Band\"],[\"Queens of the Stone Age\"],[\"System of a Down\"],[\"Sum 41\"],[\"Magnus Uggla\"],[\"The Wonder Years\"],[\"Motion City Soundtrack\"],[\"Ke$ha\"],[\"Pentakill\"],[\"White Zombie\"],[\"Ween\"],[\"P.D.P.\"],[\"Calvin Harris\"],[\"Children of Bodom\"],[\"Beach House\"],[\"The White Stripes\"],[\"36 Crazyfists\"],[\"Ben Howard\"],[\"Foo Fighters\"],[\"Cradle of Filth\"],[\"Pantera\"],[\"Green Day\"],[\"Pink Floyd\"],[\"Flo Rida\"],[\"Daughter\"],[\"Queen\"],[\"DragonForce\"],[\"Soilwork\"],[\"Volbeat\"],[\"Marina and the Diamonds\"],[\"Sonata Arctica\"],[\"Cat Power\"],[\"Wu-Tang Clan\"],[\"A Perfect Circle\"],[\"Coheed and Cambria\"],[\"Linkin Park\"],[\"Wintersun\"],[\"Nine Inch Nails\"],[\"Evergreen Terrace\"],[\"Lindemann\"],[\"Sabaton\"],[\"Bullet for My Valentine\"],[\"Mustasch\"],[\"Sick Puppies\"],[\"James Blake\"],[\"Lacuna Coil\"],[\"Theory of a Deadman\"],[\"Dark Tranquillity\"],[\"Cruel Hand\"],[\"Dmitri Shostakovich\"],[\"Warpaint\"],[\"Iron Maiden\"],[\"Memphis May Fire\"],[\"Scar Symmetry\"],[\"Damien Rice\"],[\"30 Seconds to Mars\"],[\"Papa Roach\"],[\"The Killers\"],[\"My Chemical Romance\"],[\"In Flames\"],[\"Stone Sour\"],[\"Soulfly\"],[\"Godsmack\"],[\"Nightwish\"],[\"Five Finger Death Punch\"],[\"All Time Low\"],[\"Billy Talent\"],[\"Muse\"],[\"Arch Enemy\"],[\"Amon Amarth\"],[\"Halestorm\"],[\"Hans Zimmer\"],[\"Killswitch Engage\"],[\"Black Label Society\"],[\"Nirvana\"],[\"N.W.A\"],[\"Atoms for Peace\"],[\"Rage Against the Machine\"],[\"New Found Glory\"],[\"Boston\"],[\"Metallica\"],[\"Panic! at the Disco\"],[\"Rob Zombie\"],[\"Electric Light Orchestra\"],[\"Dope\"],[\"Avenged Sevenfold\"],[\"Hozier\"],[\"Fall Out Boy\"],[\"Demon Hunter\"],[\"The Dear Hunter\"],[\"Klamydia\"],[\"Gallows\"],[\"Shinedown\"],[\"Korn\"],[\"Machine Head\"],[\"Coldplay\"],[\"Krewella\"],[\"Arctic Monkeys\"],[\"Oh, Sleeper\"]],\"hovertemplate\":\"x=%{x}<br>y=%{y}<br>band=%{customdata[0]}<extra></extra>\",\"legendgroup\":\"\",\"marker\":{\"color\":\"#636efa\",\"symbol\":\"circle\"},\"mode\":\"markers\",\"name\":\"\",\"orientation\":\"v\",\"showlegend\":false,\"x\":[-5.343132019042969,3.5406038761138916,4.921568393707275,1.7971317768096924,-0.43488600850105286,7.536632061004639,-5.56488037109375,1.7427524328231812,2.6201586723327637,-3.7490737438201904,-8.492724418640137,-4.155561923980713,-4.646412372589111,2.3039886951446533,2.804863929748535,2.183490514755249,2.859194755554199,-4.155510902404785,-4.869238376617432,1.5733722448349,2.1977710723876953,1.6316899061203003,-3.5014045238494873,3.2006187438964844,7.048371315002441,-6.845827102661133,2.7099976539611816,-0.809858500957489,-5.684659481048584,-5.683404445648193,-8.123429298400879,7.242561340332031,-1.1564146280288696,2.662316083908081,-3.5115156173706055,1.9157438278198242,1.715715765953064,-2.386052131652832,3.81766939163208,-8.428633689880371,-8.646395683288574,1.5068295001983643,7.601191520690918,1.752767562866211,-0.6466995477676392,1.4729244709014893,-5.854820251464844,-4.059615135192871,7.601191520690918,-4.492981433868408,-4.193679332733154,-4.492981433868408,-5.854820251464844,-4.721311092376709,-5.854820251464844,4.0872955322265625,2.183490514755249,2.5391275882720947,7.601191520690918,1.6726601123809814,4.1338396072387695,-4.016953468322754,4.1338396072387695,7.601191520690918,-0.6466995477676392,-4.92948579788208,-4.92948579788208,2.1402580738067627,-8.660879135131836,-4.991734027862549,7.733631610870361,3.9127256870269775,-5.434079647064209,-2.049484968185425,7.015044689178467,-3.928231954574585,-0.3680948317050934,1.388373613357544,1.7362642288208008,-0.31995517015457153,7.250785827636719,-0.5617867112159729,-3.9412758350372314,-4.776455879211426,2.308908462524414,7.34946346282959,-5.788782596588135,1.382538914680481,1.6738240718841553,2.6620421409606934,-0.7410182356834412,0.703145444393158,-8.03641414642334,3.6434757709503174,-8.03641414642334,-3.770825147628784,6.722896575927734,-3.5384645462036133,2.023184299468994,2.396721839904785,2.023184299468994,-4.153350830078125,-3.5384645462036133,-8.13420295715332,2.023184299468994,-4.153350830078125,-6.845827102661133,-5.788412094116211,-5.317452430725098,2.396721839904785,0.6881946921348572,-9.311138153076172,2.023184299468994,3.6434757709503174,-0.7334899306297302,-1.9249716997146606,-8.13420295715332,-8.13420295715332,-4.991734027862549,1.5848205089569092,1.5848205089569092,6.8758978843688965,1.5848205089569092,6.8758978843688965,3.6434757709503174,-4.153350830078125,-3.7484397888183594,-4.153350830078125,-1.2485216856002808,1.5900944471359253,-3.416175127029419,1.1934782266616821,6.768973350524902,-3.9430439472198486,-3.9430439472198486,3.6434757709503174,1.4225471019744873,-4.745993614196777,1.8379268646240234,6.663891792297363,1.8379268646240234,-0.3371013402938843,1.8379268646240234,-3.9430439472198486,0.245459645986557,3.4781606197357178,-5.318845272064209,6.6721978187561035,-5.206834316253662,-8.591304779052734],\"xaxis\":\"x\",\"y\":[0.4302588999271393,4.245042324066162,-1.1338387727737427,-7.63139009475708,3.1141581535339355,-1.015392541885376,0.022552574053406715,-7.5219902992248535,-7.5045390129089355,7.749897003173828,3.750335693359375,-5.133848667144775,-4.847024917602539,-0.7259266972541809,-7.3992509841918945,-7.736109733581543,-7.109189510345459,7.407832145690918,-4.307281017303467,-7.175691604614258,-7.063998222351074,-0.43988093733787537,7.586450099945068,1.7282054424285889,-1.977495789527893,2.049586534500122,-6.862867832183838,2.9420926570892334,0.5067891478538513,0.5073307156562805,3.7387125492095947,-0.939702033996582,-0.22828029096126556,5.877017021179199,7.536383152008057,-0.8295590877532959,7.438421249389648,3.511284112930298,4.365804195404053,3.1327478885650635,3.364389657974243,7.73546028137207,-1.7042536735534668,7.731938362121582,3.1240110397338867,3.6189005374908447,0.1609336882829666,7.662029266357422,-1.7042536735534668,-5.156802654266357,3.3995230197906494,-5.156802654266357,0.1609336882829666,3.2764627933502197,0.1609336882829666,4.218799591064453,-7.736109733581543,-7.69124698638916,-1.7042536735534668,7.791376113891602,3.9858896732330322,7.695056915283203,3.9858896732330322,-1.7042536735534668,3.1240110397338867,-4.821686744689941,-4.821686744689941,-0.8451306223869324,3.4351534843444824,5.807906627655029,-1.1799883842468262,4.3452277183532715,0.47084689140319824,6.514284133911133,-1.9527686834335327,-4.8735456466674805,2.7275679111480713,7.516876697540283,-0.7166833877563477,2.882337808609009,-0.9414005875587463,2.640425443649292,-4.81049108505249,-4.264224052429199,-0.5107433199882507,-6.448239326477051,2.8714139461517334,7.504209995269775,-0.6202671527862549,-6.748720169067383,2.7178473472595215,5.869243621826172,3.6619532108306885,3.7913401126861572,3.6619532108306885,-4.571501731872559,-1.6885343790054321,7.066206932067871,-0.25403931736946106,-6.491290092468262,-0.25403931736946106,-4.075779438018799,7.066206932067871,3.2525646686553955,-0.25403931736946106,-4.075779438018799,2.049586534500122,2.871227264404297,0.2468247264623642,-6.491290092468262,1.0856105089187622,7.882450580596924,-0.25403931736946106,3.7913401126861572,2.7102928161621094,5.084109306335449,3.2525646686553955,3.2525646686553955,5.807906627655029,7.408054351806641,7.408054351806641,-0.9916716814041138,7.408054351806641,-0.9916716814041138,3.7913401126861572,-4.075779438018799,-4.487545967102051,-4.075779438018799,-0.33713045716285706,-7.082294940948486,7.316003322601318,5.1448073387146,-1.7556296586990356,7.075605869293213,7.075605869293213,3.7913401126861572,3.834202527999878,-4.142886161804199,-6.644784927368164,-1.3775275945663452,-6.644784927368164,2.8478498458862305,-6.644784927368164,7.075605869293213,5.032839775085449,4.175563812255859,0.24282261729240417,-1.3151832818984985,-2.465986490249634,3.6705057621002197],\"yaxis\":\"y\",\"type\":\"scatter\"}],                        {\"template\":{\"data\":{\"histogram2dcontour\":[{\"type\":\"histogram2dcontour\",\"colorbar\":{\"outlinewidth\":0,\"ticks\":\"\"},\"colorscale\":[[0.0,\"#0d0887\"],[0.1111111111111111,\"#46039f\"],[0.2222222222222222,\"#7201a8\"],[0.3333333333333333,\"#9c179e\"],[0.4444444444444444,\"#bd3786\"],[0.5555555555555556,\"#d8576b\"],[0.6666666666666666,\"#ed7953\"],[0.7777777777777778,\"#fb9f3a\"],[0.8888888888888888,\"#fdca26\"],[1.0,\"#f0f921\"]]}],\"choropleth\":[{\"type\":\"choropleth\",\"colorbar\":{\"outlinewidth\":0,\"ticks\":\"\"}}],\"histogram2d\":[{\"type\":\"histogram2d\",\"colorbar\":{\"outlinewidth\":0,\"ticks\":\"\"},\"colorscale\":[[0.0,\"#0d0887\"],[0.1111111111111111,\"#46039f\"],[0.2222222222222222,\"#7201a8\"],[0.3333333333333333,\"#9c179e\"],[0.4444444444444444,\"#bd3786\"],[0.5555555555555556,\"#d8576b\"],[0.6666666666666666,\"#ed7953\"],[0.7777777777777778,\"#fb9f3a\"],[0.8888888888888888,\"#fdca26\"],[1.0,\"#f0f921\"]]}],\"heatmap\":[{\"type\":\"heatmap\",\"colorbar\":{\"outlinewidth\":0,\"ticks\":\"\"},\"colorscale\":[[0.0,\"#0d0887\"],[0.1111111111111111,\"#46039f\"],[0.2222222222222222,\"#7201a8\"],[0.3333333333333333,\"#9c179e\"],[0.4444444444444444,\"#bd3786\"],[0.5555555555555556,\"#d8576b\"],[0.6666666666666666,\"#ed7953\"],[0.7777777777777778,\"#fb9f3a\"],[0.8888888888888888,\"#fdca26\"],[1.0,\"#f0f921\"]]}],\"heatmapgl\":[{\"type\":\"heatmapgl\",\"colorbar\":{\"outlinewidth\":0,\"ticks\":\"\"},\"colorscale\":[[0.0,\"#0d0887\"],[0.1111111111111111,\"#46039f\"],[0.2222222222222222,\"#7201a8\"],[0.3333333333333333,\"#9c179e\"],[0.4444444444444444,\"#bd3786\"],[0.5555555555555556,\"#d8576b\"],[0.6666666666666666,\"#ed7953\"],[0.7777777777777778,\"#fb9f3a\"],[0.8888888888888888,\"#fdca26\"],[1.0,\"#f0f921\"]]}],\"contourcarpet\":[{\"type\":\"contourcarpet\",\"colorbar\":{\"outlinewidth\":0,\"ticks\":\"\"}}],\"contour\":[{\"type\":\"contour\",\"colorbar\":{\"outlinewidth\":0,\"ticks\":\"\"},\"colorscale\":[[0.0,\"#0d0887\"],[0.1111111111111111,\"#46039f\"],[0.2222222222222222,\"#7201a8\"],[0.3333333333333333,\"#9c179e\"],[0.4444444444444444,\"#bd3786\"],[0.5555555555555556,\"#d8576b\"],[0.6666666666666666,\"#ed7953\"],[0.7777777777777778,\"#fb9f3a\"],[0.8888888888888888,\"#fdca26\"],[1.0,\"#f0f921\"]]}],\"surface\":[{\"type\":\"surface\",\"colorbar\":{\"outlinewidth\":0,\"ticks\":\"\"},\"colorscale\":[[0.0,\"#0d0887\"],[0.1111111111111111,\"#46039f\"],[0.2222222222222222,\"#7201a8\"],[0.3333333333333333,\"#9c179e\"],[0.4444444444444444,\"#bd3786\"],[0.5555555555555556,\"#d8576b\"],[0.6666666666666666,\"#ed7953\"],[0.7777777777777778,\"#fb9f3a\"],[0.8888888888888888,\"#fdca26\"],[1.0,\"#f0f921\"]]}],\"mesh3d\":[{\"type\":\"mesh3d\",\"colorbar\":{\"outlinewidth\":0,\"ticks\":\"\"}}],\"scatter\":[{\"fillpattern\":{\"fillmode\":\"overlay\",\"size\":10,\"solidity\":0.2},\"type\":\"scatter\"}],\"parcoords\":[{\"type\":\"parcoords\",\"line\":{\"colorbar\":{\"outlinewidth\":0,\"ticks\":\"\"}}}],\"scatterpolargl\":[{\"type\":\"scatterpolargl\",\"marker\":{\"colorbar\":{\"outlinewidth\":0,\"ticks\":\"\"}}}],\"bar\":[{\"error_x\":{\"color\":\"#2a3f5f\"},\"error_y\":{\"color\":\"#2a3f5f\"},\"marker\":{\"line\":{\"color\":\"#E5ECF6\",\"width\":0.5},\"pattern\":{\"fillmode\":\"overlay\",\"size\":10,\"solidity\":0.2}},\"type\":\"bar\"}],\"scattergeo\":[{\"type\":\"scattergeo\",\"marker\":{\"colorbar\":{\"outlinewidth\":0,\"ticks\":\"\"}}}],\"scatterpolar\":[{\"type\":\"scatterpolar\",\"marker\":{\"colorbar\":{\"outlinewidth\":0,\"ticks\":\"\"}}}],\"histogram\":[{\"marker\":{\"pattern\":{\"fillmode\":\"overlay\",\"size\":10,\"solidity\":0.2}},\"type\":\"histogram\"}],\"scattergl\":[{\"type\":\"scattergl\",\"marker\":{\"colorbar\":{\"outlinewidth\":0,\"ticks\":\"\"}}}],\"scatter3d\":[{\"type\":\"scatter3d\",\"line\":{\"colorbar\":{\"outlinewidth\":0,\"ticks\":\"\"}},\"marker\":{\"colorbar\":{\"outlinewidth\":0,\"ticks\":\"\"}}}],\"scattermapbox\":[{\"type\":\"scattermapbox\",\"marker\":{\"colorbar\":{\"outlinewidth\":0,\"ticks\":\"\"}}}],\"scatterternary\":[{\"type\":\"scatterternary\",\"marker\":{\"colorbar\":{\"outlinewidth\":0,\"ticks\":\"\"}}}],\"scattercarpet\":[{\"type\":\"scattercarpet\",\"marker\":{\"colorbar\":{\"outlinewidth\":0,\"ticks\":\"\"}}}],\"carpet\":[{\"aaxis\":{\"endlinecolor\":\"#2a3f5f\",\"gridcolor\":\"white\",\"linecolor\":\"white\",\"minorgridcolor\":\"white\",\"startlinecolor\":\"#2a3f5f\"},\"baxis\":{\"endlinecolor\":\"#2a3f5f\",\"gridcolor\":\"white\",\"linecolor\":\"white\",\"minorgridcolor\":\"white\",\"startlinecolor\":\"#2a3f5f\"},\"type\":\"carpet\"}],\"table\":[{\"cells\":{\"fill\":{\"color\":\"#EBF0F8\"},\"line\":{\"color\":\"white\"}},\"header\":{\"fill\":{\"color\":\"#C8D4E3\"},\"line\":{\"color\":\"white\"}},\"type\":\"table\"}],\"barpolar\":[{\"marker\":{\"line\":{\"color\":\"#E5ECF6\",\"width\":0.5},\"pattern\":{\"fillmode\":\"overlay\",\"size\":10,\"solidity\":0.2}},\"type\":\"barpolar\"}],\"pie\":[{\"automargin\":true,\"type\":\"pie\"}]},\"layout\":{\"autotypenumbers\":\"strict\",\"colorway\":[\"#636efa\",\"#EF553B\",\"#00cc96\",\"#ab63fa\",\"#FFA15A\",\"#19d3f3\",\"#FF6692\",\"#B6E880\",\"#FF97FF\",\"#FECB52\"],\"font\":{\"color\":\"#2a3f5f\"},\"hovermode\":\"closest\",\"hoverlabel\":{\"align\":\"left\"},\"paper_bgcolor\":\"white\",\"plot_bgcolor\":\"#E5ECF6\",\"polar\":{\"bgcolor\":\"#E5ECF6\",\"angularaxis\":{\"gridcolor\":\"white\",\"linecolor\":\"white\",\"ticks\":\"\"},\"radialaxis\":{\"gridcolor\":\"white\",\"linecolor\":\"white\",\"ticks\":\"\"}},\"ternary\":{\"bgcolor\":\"#E5ECF6\",\"aaxis\":{\"gridcolor\":\"white\",\"linecolor\":\"white\",\"ticks\":\"\"},\"baxis\":{\"gridcolor\":\"white\",\"linecolor\":\"white\",\"ticks\":\"\"},\"caxis\":{\"gridcolor\":\"white\",\"linecolor\":\"white\",\"ticks\":\"\"}},\"coloraxis\":{\"colorbar\":{\"outlinewidth\":0,\"ticks\":\"\"}},\"colorscale\":{\"sequential\":[[0.0,\"#0d0887\"],[0.1111111111111111,\"#46039f\"],[0.2222222222222222,\"#7201a8\"],[0.3333333333333333,\"#9c179e\"],[0.4444444444444444,\"#bd3786\"],[0.5555555555555556,\"#d8576b\"],[0.6666666666666666,\"#ed7953\"],[0.7777777777777778,\"#fb9f3a\"],[0.8888888888888888,\"#fdca26\"],[1.0,\"#f0f921\"]],\"sequentialminus\":[[0.0,\"#0d0887\"],[0.1111111111111111,\"#46039f\"],[0.2222222222222222,\"#7201a8\"],[0.3333333333333333,\"#9c179e\"],[0.4444444444444444,\"#bd3786\"],[0.5555555555555556,\"#d8576b\"],[0.6666666666666666,\"#ed7953\"],[0.7777777777777778,\"#fb9f3a\"],[0.8888888888888888,\"#fdca26\"],[1.0,\"#f0f921\"]],\"diverging\":[[0,\"#8e0152\"],[0.1,\"#c51b7d\"],[0.2,\"#de77ae\"],[0.3,\"#f1b6da\"],[0.4,\"#fde0ef\"],[0.5,\"#f7f7f7\"],[0.6,\"#e6f5d0\"],[0.7,\"#b8e186\"],[0.8,\"#7fbc41\"],[0.9,\"#4d9221\"],[1,\"#276419\"]]},\"xaxis\":{\"gridcolor\":\"white\",\"linecolor\":\"white\",\"ticks\":\"\",\"title\":{\"standoff\":15},\"zerolinecolor\":\"white\",\"automargin\":true,\"zerolinewidth\":2},\"yaxis\":{\"gridcolor\":\"white\",\"linecolor\":\"white\",\"ticks\":\"\",\"title\":{\"standoff\":15},\"zerolinecolor\":\"white\",\"automargin\":true,\"zerolinewidth\":2},\"scene\":{\"xaxis\":{\"backgroundcolor\":\"#E5ECF6\",\"gridcolor\":\"white\",\"linecolor\":\"white\",\"showbackground\":true,\"ticks\":\"\",\"zerolinecolor\":\"white\",\"gridwidth\":2},\"yaxis\":{\"backgroundcolor\":\"#E5ECF6\",\"gridcolor\":\"white\",\"linecolor\":\"white\",\"showbackground\":true,\"ticks\":\"\",\"zerolinecolor\":\"white\",\"gridwidth\":2},\"zaxis\":{\"backgroundcolor\":\"#E5ECF6\",\"gridcolor\":\"white\",\"linecolor\":\"white\",\"showbackground\":true,\"ticks\":\"\",\"zerolinecolor\":\"white\",\"gridwidth\":2}},\"shapedefaults\":{\"line\":{\"color\":\"#2a3f5f\"}},\"annotationdefaults\":{\"arrowcolor\":\"#2a3f5f\",\"arrowhead\":0,\"arrowwidth\":1},\"geo\":{\"bgcolor\":\"white\",\"landcolor\":\"#E5ECF6\",\"subunitcolor\":\"white\",\"showland\":true,\"showlakes\":true,\"lakecolor\":\"white\"},\"title\":{\"x\":0.05},\"mapbox\":{\"style\":\"light\"}}},\"xaxis\":{\"anchor\":\"y\",\"domain\":[0.0,1.0],\"title\":{\"text\":\"x\"}},\"yaxis\":{\"anchor\":\"x\",\"domain\":[0.0,1.0],\"title\":{\"text\":\"y\"}},\"legend\":{\"tracegroupgap\":0},\"margin\":{\"t\":60}},                        {\"responsive\": true}                    ).then(function(){\n",
       "                            \n",
       "var gd = document.getElementById('af1e713d-f675-43a5-987c-4b1c64f583c6');\n",
       "var x = new MutationObserver(function (mutations, observer) {{\n",
       "        var display = window.getComputedStyle(gd).display;\n",
       "        if (!display || display === 'none') {{\n",
       "            console.log([gd, 'removed!']);\n",
       "            Plotly.purge(gd);\n",
       "            observer.disconnect();\n",
       "        }}\n",
       "}});\n",
       "\n",
       "// Listen for the removal of the full notebook cells\n",
       "var notebookContainer = gd.closest('#notebook-container');\n",
       "if (notebookContainer) {{\n",
       "    x.observe(notebookContainer, {childList: true});\n",
       "}}\n",
       "\n",
       "// Listen for the clearing of the current output cell\n",
       "var outputEl = gd.closest('.output');\n",
       "if (outputEl) {{\n",
       "    x.observe(outputEl, {childList: true});\n",
       "}}\n",
       "\n",
       "                        })                };                });            </script>        </div>"
      ]
     },
     "metadata": {},
     "output_type": "display_data"
    }
   ],
   "source": [
    "from sklearn.manifold import TSNE\n",
    "import plotly.express as px\n",
    "import pandas as pd\n",
    "\n",
    "X = pd.DataFrame(user_dict)\n",
    "X_embedded = TSNE(n_components=2, learning_rate='auto', init='pca', random_state=0).fit_transform(X)\n",
    "\n",
    "df_embedded = pd.DataFrame(X_embedded, columns=['x', 'y'])\n",
    "px.scatter(df_embedded, x='x', y='y', hover_data={'band': X.index})"
   ]
  }
 ],
 "metadata": {
  "kernelspec": {
   "display_name": "Python 3 (ipykernel)",
   "language": "python",
   "name": "python3"
  },
  "language_info": {
   "codemirror_mode": {
    "name": "ipython",
    "version": 3
   },
   "file_extension": ".py",
   "mimetype": "text/x-python",
   "name": "python",
   "nbconvert_exporter": "python",
   "pygments_lexer": "ipython3",
   "version": "3.10.6"
  },
  "nav_menu": {},
  "toc": {
   "base_numbering": 1,
   "nav_menu": {},
   "number_sections": true,
   "sideBar": true,
   "skip_h1_title": false,
   "title_cell": "Table of Contents",
   "title_sidebar": "Contents",
   "toc_cell": false,
   "toc_position": {},
   "toc_section_display": "block",
   "toc_window_display": true
  },
  "toc_position": {
   "height": "664px",
   "left": "0px",
   "right": "1209.67px",
   "top": "125.333px",
   "width": "212px"
  }
 },
 "nbformat": 4,
 "nbformat_minor": 1
}
