{
 "cells": [
  {
   "cell_type": "markdown",
   "metadata": {},
   "source": [
    "# Data Mining Versuch Recommender Systeme\n",
    "\n",
    "* Autor: Prof. Dr. Johannes Maucher\n",
    "* Datum: 30.09.2015\n",
    "\n",
    "# Einführung\n",
    "## Lernziele:\n",
    "In diesem Versuch sollen Kenntnisse in folgenden Themen vermittelt werden:\n",
    "\n",
    "* __Ähnlichkeit:__ Verfahren zur Bestimmung der Ähnlichkeit zwischen Personen (Kunden) und Elementen (Produkten)\n",
    "* __Empfehlungssysteme__ Collaborative Filtering \n",
    "* __Collaborative Filtering:__ Nutzerbezogener Ansatz und elementbasierter Ansatz\n",
    "\n",
    "Sämtliche Verfahren und Algorithmen werden in Python implementiert.\n",
    "\n",
    "## Theorie zur Vorbereitung\n",
    "### Recommender Systeme\n",
    "Recommender Systeme werden im E-Commerce eingesetzt um Werbung in Form von kundenspezifischen Empfehlungen zu verteilen. Weitläufig bekannt sind die Amazon-Empfehlungen, die entweder per e-mail geschickt oder nach dem Log-In in der Web-Page angezeigt werden. Diese Empfehlungen werden in Abhängigkeit von den bisher vom jeweiligen Kunden gekauften bzw. bewerteten Produkten erstellt. In diesem Versuch werden die derzeit wohl am weitest verbreiteteten Verfahren für die Erzeugung kundenspezifischer Empfehlungen vorgestellt, darunter das elementweise Collaborative Filtering, welches z.B. auch von Amazon eingesetzt wird.     \n",
    "\n",
    "Direkt-Marketing Methoden wie die kundenspezifische Erzeugung und Bereitstellung von Werbung erfordern detaillierte Kunden- und Warenkorbanalysen. Kunden mit ähnlichem Kaufverhalten werden in Kundengruppen zusammengefasst. Die Warenkorbanalyse untersucht u.a. welche Waren bevorzugt im Verbund von der gleichen Person gekauft werden. Damit kann ein Händler Werbung in Form von Empfehlungen individuell und gezielt an seine Kunden richten, abhängig davon welcher Kundengruppe er angehört und welche Produkte bevorzugt von dieser Kundengruppe nachgefragt werden. \n",
    "\n",
    "Im ersten Teil der Übung werden fiktive Daten in einer überschaubaren Menge verwendet. Es handelt sich hier um Filmbewertungen. Anhand dieses Beispiels sollen die notwendigen Methoden und Abläufe implementiert und getestet werden. Diese werden im zweiten Teil der Übung auf echte Daten angewandt. Hierzu werden über eine Python-API Daten vom Internet-Meta-Radio _last.fm_ integriert. Auf der Basis dieser Daten sollen dann Musikempfehlungen für last.fm User berechnet werden. \n",
    "\n",
    "Recommender Systeme lassen sich mit\n",
    "\n",
    "* Clustering Verfahren\n",
    "* Suchalgorithmen\n",
    "* Collaborativen Filtering \n",
    " \n",
    "realisieren. Am häufigsten wird hierbei das Collaborative Filtering eingesetzt. Für das Collaborative Filtering wird jeder der $M$ User durch einen $N$-dimensionalen Vektor beschrieben, wobei $N$ die Anzahl der Produkte im Angebot des Händlers ist. Jedes Element im Vektor gehört zu einem speziellen Produkt. Das Element hat den Wert 1, wenn der User dieses Produkt bereits gekauft hat, sonst 0 (andere Wertbelegungen sind möglich, z.B. wenn Produktbewertungen vorliegen). Alle $M$ Zeilenvektoren können zur _User/Item_ Matrix zusammengefasst werden (siehe Abbildung).\n",
    "\n",
    "\n",
    "<img src=\"https://maucher.home.hdm-stuttgart.de/Pics/UserItemMatrix.png\" style=\"width:500px\" align=\"center\">"
   ]
  },
  {
   "cell_type": "markdown",
   "metadata": {},
   "source": [
    "Das traditionelle **userbasierte Collaborative Filtering (UCF)**, benutzt die Ähnlichkeit zwischen Benutzern: Um für User $U_i$ eine Empfehlung zu erzeugen wird zunächst der diesem User ähnlichste Kunde (oder eine Menge vom ähnlichsten Kunden) ermittelt. Dann werden $U_i$ die Produkte (Items) empfohlen, welche der ähnlichste Kunde gekauft hat, $U_i$ selbst jedoch noch nicht. \n",
    "\n",
    "Dieser Ansatz skaliert schlecht im Fall sehr großer *User/Item*-Matrizen. Ausserdem ist er für User, welche erst wenige Produkte gekauft haben unzuverlässig. Besser eignet sich in diesen Fällen das **itembasierte Collaborative Filtering (ICF)**. Es wird u.a. von Amazon.com eingesetzt. Diese Variante benutzt die Ähnlichkeit zwischen Produkten (Items). Dabei sind Produkte umso ähnlicher je mehr Kunden diese Produkte gemeinsam gekauft haben. Für die Produkte welche ein Referenzuser $U_i$ bereits gekauft hat, werden die ähnlichsten Produkte ermittelt. Diese ähnlichsten Produkte werden $U_i$ empfohlen, wenn er sie nicht schon selbst gekauft hat.\n",
    "\n",
    "Im folgenden Abschnitt werden einige gebräuchliche Metriken für die Berechnung der Ähnlichkeit zwischen Benutzern oder Artikeln vorgestellt. Für Collaboratives Filtering wird sehr häufig das Cosinus - Ähnlichkeitsmaß eingesetzt.\n"
   ]
  },
  {
   "cell_type": "markdown",
   "metadata": {},
   "source": [
    "### Gebräuchliche Ähnlichkeitsmaße\n",
    "\n",
    "Die __euklidische Distanz__ $d_E(\\underline{a},\\underline{b})$ zwischen zwei n-dimensionalen Vektoren $\\underline{a}=(a_1,\\ldots,a_n)$ und $\\underline{b}=(b_1,\\ldots,b_n)$ berechnet sich zu\n",
    "\t$$\n",
    "\td_E(\\underline{a},\\underline{b})=\\sqrt{\\sum_{i=1}^n (a_i-b_i)^2}\n",
    "\t$$\n",
    "Zwei Vektoren können als umso ähnlicher erachtet werden, je kleiner deren euklidische Distanz ist. \n",
    "Ein auf der euklidischen Metrik basierendes Ähnlichkeitsmaß zwischen zwei Vektoren $\\underline{a}$ und $\\underline{b}$ kann durch \n",
    "$$\n",
    "s_E(\\underline{a},\\underline{b})=\\frac{1}{1+d_E(\\underline{a},\\underline{b})}\n",
    "$$\n",
    "angegeben werden.\n",
    "\n",
    "\n",
    "__Pearson Korrelation__\n",
    "Die Ähnlichkeit zwischen zwei Vektoren kann auch durch den Pearson-Korrelationskoeffizient $\\rho_{\\underline{a},\\underline{b}}$ ausgedrückt werden. Er berechnet sich zu\n",
    "$$\n",
    "\\rho_{\\underline{a},\\underline{b}}= \\frac{1}{N}\\cdot \\sum\\limits_{i=1}^{N}\\frac{(a_i-\\overline{a})}{\\sigma_a} \\frac{(b_i-\\overline{b})}{\\sigma_b}\n",
    "$$\n",
    "Dabei bezeichnet $N$ die Länge der Vektoren, $\\overline{a}$ den Mittelwert und $\\sigma_a$ die Standardabweichung des Vektors $\\underline{a}$. \n",
    "\n",
    "Der Pearson-Korrelationskoeffizient misst die lineare Abhängigkeit zwischen zwei Vektoren. Der maximale Wert von $+1$ wird erreicht, wenn die durch die beiden Vektoren definierten N Punkte im 2-dimensionalen Raum auf einer ansteigenden Geraden liegen. Der Minimalwert von $-1$ wird erreicht, wenn die Punkte auf einer abfallenden Geraden liegen. Der Betrag des Koeffizienten ist umso kleiner, je stärker die Punkte von einer fiktiven Geraden (kann durch lineare Regression berechnet werden) abweichen. Der Koeffizient ist $0$ wenn keine lineare Abhängigkeit zwischen den Vektoren besteht.\n",
    "\n",
    "\n",
    "__Cosinus Ähnlichkeitsmaß__\n",
    "Die Ähnlichkeit zwischen zwei Vektoren kann auch durch den Cosinus $\\cos(\\underline{a},\\underline{b})$ ausgedrückt werden. Er berechnet sich zu\n",
    "$$\n",
    "\\cos(\\underline{a},\\underline{b})= \\frac{\\underline{a} \\cdot \\underline{b}}{\\left\\|\\underline{a}\\right\\|\\cdot \\left\\|\\underline{b}\\right\\|}\n",
    "$$\n",
    "wobei im Zähler das Skalarprodukt der beiden Vektoren steht und mit $\\left\\|\\underline{x}\\right\\|$ der Betrag des Vektors $\\underline{x}$ bezeichnet wird.\n",
    "\n",
    "Falls die Vektoren $\\underline{a}$ und $\\underline{b}$ mittelwertfrei sind, ist der Cosinus-Ähnlichkeitswert gleich dem Pearson-Korrelationswert. In der Dokument- und Textanalyse wird vornehmlich das Cosinus-Ähnlichkeitsmaß verwendet. \n",
    "\n",
    "\n",
    "__Russel Rao Ähnlichkeitsmaß__\n",
    "Die Russel Rao-Ähnlichkeit zwischen zwei binären Vektoren $\\underline{a}$ und $\\underline{b}$ mißt das Verhältnis zwischen der Anzahl $\\alpha$ der Stellen in denen beide Vektoren den Wert 1 haben und der Länge $n$ der Vektoren. Z.B. ist für die Vektoren $\\underline{a}=(1,0,1,0,0,1)$ und $\\underline{b}=(0,1,1,1,0,1)$ die Russel-Rao-Ähnlichkeit $s_{RR}(\\underline{a},\\underline{b})=2/6=0.333$.\n",
    "\n",
    "__Jaccard Ähnlichkeitsmaß__\n",
    "Die Jaccard-Ähnlichkeit zwischen zwei binären Vektoren $\\underline{a}$ und $\\underline{b}$ mißt das Verhältnis zwischen der Anzahl $\\alpha$ der Stellen in denen beide Vektoren den Wert $1$ haben und der Anzahl der Stellen in denen mindestens einer der beiden Vektoren ungleich $0$ ist. Z.B. ist für die Vektoren $\\underline{a}=(1,0,1,0,0,1)$ und $\\underline{b}=(0,1,1,1,0,1)$ die Jaccard-Ähnlichkeit $s_{J}(\\underline{a},\\underline{b})=2/5=0.4$. Die Jaccard Metrik wird in diesem Versuch für die Bestimmung der Ähnlichkeit von *last.fm*-Usern eingesetzt.\n"
   ]
  },
  {
   "cell_type": "markdown",
   "metadata": {},
   "source": [
    "## Vor dem Versuch zu klärende Fragen\n",
    "Eine Untermenge der im Folgenden aufgeführten Fragen wird zu Beginn des Versuchs im Rahmen eines Gruppenkolloqs abgefragt. Auf jede Frage sollte von mindestens einem Gruppenmitglied eine Antwort geliefert werden und jedes Gruppenmitglied muss mindestens eine der gestellten Fragen beantworten können.\n",
    "\n",
    "**Aufgaben:**\n",
    "\n",
    "* Beschreiben Sie das Prinzip des userbasierten Collaborativen Filtering (UCF)."
   ]
  },
  {
   "cell_type": "markdown",
   "metadata": {},
   "source": []
  },
  {
   "cell_type": "markdown",
   "metadata": {},
   "source": [
    "* Welche Nachteile hat das UCF?"
   ]
  },
  {
   "cell_type": "markdown",
   "metadata": {},
   "source": [
    "Es skaliert schlecht bei vielen Items"
   ]
  },
  {
   "cell_type": "markdown",
   "metadata": {},
   "source": [
    "* Worin besteht der Unterschied zwischen UCF und itembasierten Collaborativen Filtering (ICF)?"
   ]
  },
  {
   "cell_type": "markdown",
   "metadata": {},
   "source": [
    "#Your markdown"
   ]
  },
  {
   "cell_type": "markdown",
   "metadata": {},
   "source": [
    "* Gegeben seien die Vektoren \n",
    "\n",
    "    \\begin{eqnarray*}\n",
    "    \\underline{a} & = & [1,2,3,4,5,6] \\\\\n",
    "    \\underline{b} & = & [3,3,5,6,7,8] \\\\\n",
    "    \\end{eqnarray*}\n",
    "    \n",
    "    Schreiben Sie eine Python Funktion, die den Mittelwert derartiger Vektoren berechnet. Schreiben Sie eine weitere Funktion, die die Varianz berechnet"
   ]
  },
  {
   "cell_type": "code",
   "execution_count": 1,
   "metadata": {},
   "outputs": [
    {
     "name": "stdout",
     "output_type": "stream",
     "text": [
      "My Functions:\n",
      "Mean: 3.5\n",
      "Variance: 2.9166666666666665\n",
      "Numpy Functions:\n",
      "Mean: 3.5\n",
      "Variance: 2.9166666666666665\n",
      "My Functions:\n",
      "Mean: 5.333333333333333\n",
      "Variance: 3.5555555555555554\n",
      "Numpy Functions:\n",
      "Mean: 5.333333333333333\n",
      "Variance: 3.5555555555555554\n"
     ]
    }
   ],
   "source": [
    "from functools import reduce\n",
    "import numpy as np\n",
    "\n",
    "def my_mean(lst: list):\n",
    "  return reduce(lambda x, y: x + y, lst) / len(lst)\n",
    "\n",
    "def my_variance(lst: list):\n",
    "  mean = my_mean(lst)\n",
    "  devs = [(x - mean) ** 2 for x in lst]\n",
    "  return my_mean(devs)\n",
    "\n",
    "def compare(lst: list):\n",
    "  print(\"My Functions:\")\n",
    "  print(f\"Mean: {my_mean(lst)}\")\n",
    "  print(f\"Variance: {my_variance(lst)}\")\n",
    "  print(\"Numpy Functions:\")\n",
    "  print(f\"Mean: {np.mean(lst)}\")\n",
    "  print(f\"Variance: {np.var(lst)}\")\n",
    "\n",
    "\n",
    "a = [1,2,3,4,5,6]\n",
    "b = [3,3,5,6,7,8]\n",
    "\n",
    "compare(a)\n",
    "compare(b)"
   ]
  },
  {
   "cell_type": "markdown",
   "metadata": {},
   "source": [
    "* Wie groß ist die\n",
    "\n",
    "    - Euklidische Ähnlichkeit\n",
    "    - Pearson Ähnlichkeit\n",
    "    - Cosinus Ähnlichkeit\n",
    "    \n",
    "    zwischen den Vektoren $\\underline{a}$ und $\\underline{b}$? "
   ]
  },
  {
   "cell_type": "code",
   "execution_count": 2,
   "metadata": {},
   "outputs": [],
   "source": [
    "def euclidean_distance(x: list, y: list):\n",
    "  return np.sqrt(np.sum([(a - b) ** 2 for a, b in zip(x, y)]))\n",
    "\n",
    "def pearson_correlation(x: list, y: list):\n",
    "  x_mean = np.mean(x)\n",
    "  y_mean = np.mean(y)\n",
    "  numerator = np.sum([(a - x_mean) * (b - y_mean) for a, b in zip(x, y)])\n",
    "  denominator = np.sqrt(np.sum([(a - x_mean) ** 2 for a in x])) * np.sqrt(np.sum([(b - y_mean) ** 2 for b in y]))\n",
    "  return numerator / denominator\n",
    "\n",
    "def cosine_similarity(x: list, y: list):\n",
    "  numerator = np.sum([a * b for a, b in zip(x, y)])\n",
    "  denominator = np.sqrt(np.sum([a ** 2 for a in x])) * np.sqrt(np.sum([b ** 2 for b in y]))\n",
    "  return numerator / denominator"
   ]
  },
  {
   "cell_type": "code",
   "execution_count": 3,
   "metadata": {},
   "outputs": [
    {
     "name": "stdout",
     "output_type": "stream",
     "text": [
      "My Functions:\n",
      "Euclidean Distance: 4.58257569495584\n",
      "Pearson Correlation: 0.9833434220628547\n",
      "Cosine Similarity: 0.991060084745164\n",
      "Scipy Functions:\n",
      "Euclidean Distance: 4.58257569495584\n",
      "Pearson Correlation: 0.9833434220628547\n",
      "Cosine Similarity: 0.9910600847451639\n"
     ]
    }
   ],
   "source": [
    "print(\"My Functions:\")\n",
    "print(f\"Euclidean Distance: {euclidean_distance(a, b)}\")\n",
    "print(f\"Pearson Correlation: {pearson_correlation(a, b)}\")\n",
    "print(f\"Cosine Similarity: {cosine_similarity(a, b)}\")\n",
    "\n",
    "from scipy.spatial.distance import euclidean, cosine\n",
    "from scipy.stats import pearsonr\n",
    "\n",
    "print(\"Scipy Functions:\")\n",
    "print(f\"Euclidean Distance: {euclidean(a, b)}\")\n",
    "print(f\"Pearson Correlation: {pearsonr(a, b)[0]}\")\n",
    "print(f\"Cosine Similarity: {1 - cosine(a, b)}\")"
   ]
  },
  {
   "cell_type": "markdown",
   "metadata": {},
   "source": [
    "* In welchen Fällen sind Cosinus- und Pearsonähnlichkeit der euklidischen Ähnlichkeit vorzuziehen?"
   ]
  },
  {
   "cell_type": "markdown",
   "metadata": {},
   "source": [
    "In mehrdimensionalen Vektorräumen"
   ]
  },
  {
   "cell_type": "code",
   "execution_count": 4,
   "metadata": {},
   "outputs": [],
   "source": [
    "from IPython.display import Latex\n",
    "from IPython.display import Image\n",
    "import pylast"
   ]
  },
  {
   "cell_type": "markdown",
   "metadata": {},
   "source": [
    "# Versuchsdurchführung\n",
    "## Teil 1: Fiktive Filmbewertung\n",
    "### Daten\n",
    "Folgende Tabelle enthält die Filmbewertungen von 7 Personen.\n",
    "In diesem Versuch sollen Kenntnisse in folgenden Themen vermittelt werden:\n",
    "\n",
    "\n",
    "<img src=\"https://maucher.home.hdm-stuttgart.de/Pics/recommenderFilmRecommendations.PNG\" style=\"width:500px\" align=\"center\">\n",
    "\n"
   ]
  },
  {
   "cell_type": "markdown",
   "metadata": {},
   "source": [
    "Die Tabelle ist als Python dictionary _critics_ implementiert. Die Keys des Python-Dictionary definieren die Namen von Personen (Zeilen in der Matrix), die Filme bewertet haben. Die Values sind selbst wieder Dictionarys, welche als Keys die Filmnamen (Spalten in der Matrix) und als Values die jeweilige Filmbewertung (Matrixelment) enthalten."
   ]
  },
  {
   "cell_type": "code",
   "execution_count": 6,
   "metadata": {},
   "outputs": [],
   "source": [
    "critics={'Lisa Rose': {'Lady in the Water': 2.5, 'Snakes on a Plane': 3.5,\n",
    " 'Just My Luck': 3.0, 'Superman Returns': 3.5, 'You, Me and Dupree': 2.5, \n",
    " 'The Night Listener': 3.0},\n",
    "'Gene Seymour': {'Lady in the Water': 3.0, 'Snakes on a Plane': 3.5, \n",
    " 'Just My Luck': 1.5, 'Superman Returns': 5.0, 'The Night Listener': 3.0, \n",
    " 'You, Me and Dupree': 3.5}, \n",
    "'Michael Phillips': {'Lady in the Water': 2.5, 'Snakes on a Plane': 3.0,\n",
    " 'Superman Returns': 3.5, 'The Night Listener': 4.0},\n",
    "'Claudia Puig': {'Snakes on a Plane': 3.5, 'Just My Luck': 3.0,\n",
    " 'The Night Listener': 4.5, 'Superman Returns': 4.0, \n",
    " 'You, Me and Dupree': 2.5},\n",
    "'Mick LaSalle': {'Lady in the Water': 3.0, 'Snakes on a Plane': 4.0, \n",
    " 'Just My Luck': 2.0, 'Superman Returns': 3.0, 'The Night Listener': 3.0,\n",
    " 'You, Me and Dupree': 2.0}, \n",
    "'Jack Matthews': {'Lady in the Water': 3.0, 'Snakes on a Plane': 4.0,\n",
    " 'The Night Listener': 3.0, 'Superman Returns': 5.0, 'You, Me and Dupree': 3.5},\n",
    "'Toby': {'Snakes on a Plane':4.5,'You, Me and Dupree':1.0,'Superman Returns':4.0}\n",
    "}"
   ]
  },
  {
   "cell_type": "markdown",
   "metadata": {},
   "source": [
    "### Ähnlichkeiten berechnen\n",
    "\n",
    "Für die Bestimmung der Ähnlichkeit zwischen Personen und Produkten werden in diesem Versuch ein auf der euklidischen Distanz basierendes Ähnlichkeitsmaß und die Pearson-Korrelation verwendet. Beide Ähnlichkeitsmaße sind in den unten definierten Funktionen implementiert. Alle drei hier implementierten Funktionen zur Berechnung der Ähnlichkeit erhalten als Übergabeparameter das oben definierte Dictionary, das die Filmbewertungen enthält und die Namen der zwei Personen, die verglichen werden sollen. \n",
    "\n",
    "Zu beachten ist, dass in beiden Funktionen für die Berechnung der Ähnlichkeit zwischen zwei Personen nur die Produkte berücksichtigt werden, welche von beiden Personen schon bewertet wurden. Es handelt sich hier also um modifizierte Ähnlichkeitsfunktionen. \n",
    "\n",
    "__Aufgabe:__\n",
    "Fragen Sie von diesem Dictionary _Toby's_ Bewertung des Films _Snakes on a Plane_ ab und geben Sie diesen Wert aus: "
   ]
  },
  {
   "cell_type": "code",
   "execution_count": 7,
   "metadata": {},
   "outputs": [
    {
     "data": {
      "text/plain": [
       "4.5"
      ]
     },
     "execution_count": 7,
     "metadata": {},
     "output_type": "execute_result"
    }
   ],
   "source": [
    "critics['Toby']['Snakes on a Plane']"
   ]
  },
  {
   "cell_type": "code",
   "execution_count": 8,
   "metadata": {},
   "outputs": [],
   "source": [
    "import numpy as np\n",
    "import scipy.spatial.distance as sci\n",
    "\n",
    "\n",
    "def sim_euclid(prefs,person1,person2,normed=True):\n",
    "    ''' Returns a euclidean-distance-based similarity score for \n",
    "    person1 and person2. In the distance calculation the sum is computed \n",
    "    only over those items, which are nonzero for both instances, i.e. only\n",
    "    films which are ranked by both persons are regarded.\n",
    "    If the parameter normed is True, then the euclidean distance is divided by\n",
    "    the number of non-zero elements integrated in the distance calculation. Thus\n",
    "    the effect of larger distances in the case of an increasing number of commonly ranked\n",
    "    items is avoided.\n",
    "    '''\n",
    "    # Get the list of shared_items\n",
    "    si={}\n",
    "    for item in prefs[person1]: \n",
    "        if item in prefs[person2]: \n",
    "            si[item] = 1\n",
    "            \n",
    "    # len(si) counts the number of common ratings\n",
    "    # if they have no ratings in common, return 0\n",
    "    if len(si) == 0: \n",
    "        return 0\n",
    "\n",
    "    # Add up the squares of all the differences\n",
    "    sum_of_squares=np.sqrt(sum([pow(prefs[person1][item]-prefs[person2][item],2) \n",
    "                     for item in prefs[person1] if item in prefs[person2]]))\n",
    "    if normed:\n",
    "        sum_of_squares= 1.0/len(si)*sum_of_squares\n",
    "    return 1/(1+sum_of_squares)\n",
    "\n",
    "\n",
    "def sim_pearson(prefs,p1,p2):\n",
    "    '''\n",
    "    Returns the Pearson correlation coefficient for p1 and p2\n",
    "    '''\n",
    "\n",
    "    # Get the list of commonly rated items\n",
    "    si={}\n",
    "    for item in prefs[p1]: \n",
    "        if item in prefs[p2]: \n",
    "            si[item]=1\n",
    "\n",
    "    # if they are no ratings in common, return 0\n",
    "    if len(si)==0: return 0\n",
    "\n",
    "    # Sum calculations\n",
    "    n=len(si)\n",
    "\n",
    "    # Calculate means of person 1 and 2\n",
    "    mp1=np.mean([prefs[p1][it] for it in si])\n",
    "    mp2=np.mean([prefs[p2][it] for it in si])\n",
    "\n",
    "    # Calculate standard deviation of person 1 and 2\n",
    "    sp1=np.std([prefs[p1][it] for it in si])\n",
    "    sp2=np.std([prefs[p2][it] for it in si])\n",
    "\n",
    "    # If all elements in one sample are identical, the standard deviation is 0. \n",
    "    # In this case there is no linear correlation between the samples\n",
    "    if sp1==0 or sp2==0:\n",
    "        return 0\n",
    "    r=1/(n*sp1*sp2)*sum([(prefs[p1][it]-mp1)*(prefs[p2][it]-mp2) for it in si])\n",
    "    return r\n",
    "\n",
    "\n",
    "def sim_RusselRao(prefs,person1,person2,normed=True):\n",
    "    ''' Returns RusselRao similaritiy between 2 users. The RusselRao similarity just counts the number\n",
    "    of common non-zero components of the two vectors and divides this number by N, where N is the length\n",
    "    of the vectors. If normed=False, the division by N is omitted.\n",
    "    '''\n",
    "    # Get the list of shared_items\n",
    "    si={}\n",
    "    commons=0\n",
    "    for item in prefs[person1]: \n",
    "        if prefs[person1][item]==1 and prefs[person2][item]==1:   \n",
    "            commons+=1\n",
    "    #print commons\n",
    "    if not normed:\n",
    "        return commons\n",
    "    else:\n",
    "        return commons*1.0/len(prefs[person1]) "
   ]
  },
  {
   "cell_type": "markdown",
   "metadata": {},
   "source": [
    "**Aufgabe:**\n",
    "1. Geben Sie die euklidische Ähnlichkeit und die Pearson Ähnlichkeit zwischen den Personen _Toby_ und _Lisa Rose_ aus.\n",
    "2. Diskutieren Sie die unterschiedlichen Ähnlichkeitswert."
   ]
  },
  {
   "cell_type": "code",
   "execution_count": 11,
   "metadata": {},
   "outputs": [
    {
     "name": "stdout",
     "output_type": "stream",
     "text": [
      "Euklid: 0.615911621788925\n",
      "Pearson: 0.9912407071619302\n"
     ]
    }
   ],
   "source": [
    "print(f\"Euklid: {sim_euclid(critics,'Lisa Rose','Toby')}\")\n",
    "print(f\"Pearson: {sim_pearson(critics,'Lisa Rose','Toby')}\")"
   ]
  },
  {
   "cell_type": "markdown",
   "metadata": {},
   "source": [
    "**Hier diskussion**"
   ]
  },
  {
   "cell_type": "markdown",
   "metadata": {},
   "source": [
    "__Aufgabe:__\n",
    "0. Schreiben Sie eine Funktion `topMatches(prefs,person,similarity)`, welche für eine beliebige in _critics_ enthaltene Person die Ähnlichkeitswerte zu allen anderen Personen berechnet und in einer geordneten Liste zurück gibt. Der Funktion soll als Übergabeparameter auch die anzuwendende Ähnlichkeitsfunktion (`sim_euclid` oder `sim_pearson`) übergeben werden können. Berechnen Sie mit dieser Funktion für jede Person die *top matches*, zunächst unter Verwendung der euklidischen- dann unter Verwendung der Pearson-Ähnlichkeit.\n",
    "1. Geben Sie mit der implementierten Funktion die *top matches* der Person Toby aus.\n",
    "2. Vergleichen Sie die beiden Ähnlichkeitsmaße. Welches Ähnlichkeitsmaß erscheint Ihnen für diesen Anwendungsfall sinnvoller und warum?"
   ]
  },
  {
   "cell_type": "code",
   "execution_count": 13,
   "metadata": {},
   "outputs": [],
   "source": [
    "def top_matches(prefs, person, similarity=sim_pearson):\n",
    "    '''\n",
    "    Returns the best matches from the prefs dictionary.\n",
    "    '''\n",
    "    scores=[(similarity(prefs, person, other), other) \n",
    "                for other in prefs if other != person]\n",
    "    # Sort the list so the highest scores appear at the top\n",
    "    scores.sort()\n",
    "    scores.reverse()\n",
    "    return scores"
   ]
  },
  {
   "cell_type": "code",
   "execution_count": 17,
   "metadata": {},
   "outputs": [
    {
     "name": "stdout",
     "output_type": "stream",
     "text": [
      "Top matches with euclidean distance\n",
      "Lisa Rose: [(0.8092564301694538, 'Mick LaSalle'), (0.7815501047457912, 'Michael Phillips'), (0.7597469266479578, 'Claudia Puig'), (0.7208254886814803, 'Jack Matthews'), (0.714462989423532, 'Gene Seymour'), (0.615911621788925, 'Toby')]\n",
      "Gene Seymour: [(0.9090909090909091, 'Jack Matthews'), (0.714462989423532, 'Lisa Rose'), (0.6978305207480379, 'Mick LaSalle'), (0.6737986373538911, 'Michael Phillips'), (0.6622946603252993, 'Claudia Puig'), (0.5108747069239427, 'Toby')]\n",
      "Michael Phillips: [(0.7815501047457912, 'Lisa Rose'), (0.7759907622602041, 'Claudia Puig'), (0.7166996059009808, 'Mick LaSalle'), (0.6737986373538911, 'Gene Seymour'), (0.6534537935444722, 'Jack Matthews'), (0.5584815598877471, 'Toby')]\n",
      "Claudia Puig: [(0.7759907622602041, 'Michael Phillips'), (0.7597469266479578, 'Lisa Rose'), (0.6964322291925094, 'Mick LaSalle'), (0.6622946603252993, 'Gene Seymour'), (0.6534537935444722, 'Jack Matthews'), (0.6246387977050463, 'Toby')]\n",
      "Mick LaSalle: [(0.8092564301694538, 'Lisa Rose'), (0.7166996059009808, 'Michael Phillips'), (0.6978305207480379, 'Gene Seymour'), (0.6964322291925094, 'Claudia Puig'), (0.6666666666666666, 'Toby'), (0.6666666666666666, 'Jack Matthews')]\n",
      "Jack Matthews: [(0.9090909090909091, 'Gene Seymour'), (0.7208254886814803, 'Lisa Rose'), (0.6666666666666666, 'Mick LaSalle'), (0.6534537935444722, 'Michael Phillips'), (0.6534537935444722, 'Claudia Puig'), (0.5227744249483389, 'Toby')]\n",
      "Toby: [(0.6666666666666666, 'Mick LaSalle'), (0.6246387977050463, 'Claudia Puig'), (0.615911621788925, 'Lisa Rose'), (0.5584815598877471, 'Michael Phillips'), (0.5227744249483389, 'Jack Matthews'), (0.5108747069239427, 'Gene Seymour')]\n",
      "------------------\n",
      "Top matches with Pearson\n",
      "Lisa Rose: [(0.9912407071619302, 'Toby'), (0.747017880833996, 'Jack Matthews'), (0.5940885257860046, 'Mick LaSalle'), (0.5669467095138409, 'Claudia Puig'), (0.40451991747794525, 'Michael Phillips'), (0.39605901719066977, 'Gene Seymour')]\n",
      "Gene Seymour: [(0.963795681875633, 'Jack Matthews'), (0.4117647058823529, 'Mick LaSalle'), (0.39605901719066977, 'Lisa Rose'), (0.3812464258315117, 'Toby'), (0.31497039417435596, 'Claudia Puig'), (0.20459830184114203, 'Michael Phillips')]\n",
      "Michael Phillips: [(1.0000000000000002, 'Claudia Puig'), (0.40451991747794525, 'Lisa Rose'), (0.20459830184114203, 'Gene Seymour'), (0.13483997249264842, 'Jack Matthews'), (-0.2581988897471611, 'Mick LaSalle'), (-1.0, 'Toby')]\n",
      "Claudia Puig: [(1.0000000000000002, 'Michael Phillips'), (0.8934051474415644, 'Toby'), (0.5669467095138409, 'Mick LaSalle'), (0.5669467095138409, 'Lisa Rose'), (0.31497039417435596, 'Gene Seymour'), (0.02857142857142857, 'Jack Matthews')]\n",
      "Mick LaSalle: [(0.9244734516419051, 'Toby'), (0.5940885257860046, 'Lisa Rose'), (0.5669467095138409, 'Claudia Puig'), (0.4117647058823529, 'Gene Seymour'), (0.21128856368212914, 'Jack Matthews'), (-0.2581988897471611, 'Michael Phillips')]\n",
      "Jack Matthews: [(0.9637956818756331, 'Gene Seymour'), (0.7470178808339961, 'Lisa Rose'), (0.6628489803598703, 'Toby'), (0.21128856368212914, 'Mick LaSalle'), (0.13483997249264842, 'Michael Phillips'), (0.02857142857142857, 'Claudia Puig')]\n",
      "Toby: [(0.9912407071619302, 'Lisa Rose'), (0.9244734516419051, 'Mick LaSalle'), (0.8934051474415642, 'Claudia Puig'), (0.6628489803598703, 'Jack Matthews'), (0.3812464258315117, 'Gene Seymour'), (-1.0, 'Michael Phillips')]\n"
     ]
    }
   ],
   "source": [
    "print(\"Top matches with euclidean distance\")\n",
    "for person in critics:\n",
    "    print(f\"{person}: {top_matches(critics, person, similarity=sim_euclid)}\")\n",
    "\n",
    "print(\"------------------\")\n",
    "\n",
    "print(\"Top matches with Pearson\")\n",
    "for person in critics:\n",
    "    print(f\"{person}: {top_matches(critics, person, similarity=sim_pearson)}\")"
   ]
  },
  {
   "cell_type": "code",
   "execution_count": 14,
   "metadata": {},
   "outputs": [
    {
     "data": {
      "text/plain": [
       "[(0.6666666666666666, 'Mick LaSalle'),\n",
       " (0.6246387977050463, 'Claudia Puig'),\n",
       " (0.615911621788925, 'Lisa Rose'),\n",
       " (0.5584815598877471, 'Michael Phillips'),\n",
       " (0.5227744249483389, 'Jack Matthews'),\n",
       " (0.5108747069239427, 'Gene Seymour')]"
      ]
     },
     "execution_count": 14,
     "metadata": {},
     "output_type": "execute_result"
    }
   ],
   "source": [
    "top_matches(critics, 'Toby', similarity=sim_euclid)"
   ]
  },
  {
   "cell_type": "code",
   "execution_count": 19,
   "metadata": {},
   "outputs": [
    {
     "data": {
      "text/plain": [
       "[(0.9912407071619302, 'Lisa Rose'),\n",
       " (0.9244734516419051, 'Mick LaSalle'),\n",
       " (0.8934051474415642, 'Claudia Puig'),\n",
       " (0.6628489803598703, 'Jack Matthews'),\n",
       " (0.3812464258315117, 'Gene Seymour'),\n",
       " (-1.0, 'Michael Phillips')]"
      ]
     },
     "execution_count": 19,
     "metadata": {},
     "output_type": "execute_result"
    }
   ],
   "source": [
    "top_matches(critics, 'Toby', similarity=sim_pearson)"
   ]
  },
  {
   "cell_type": "markdown",
   "metadata": {},
   "source": [
    "##### Vergleich der Ähnlichkeitsmaße\n",
    "\n",
    "Mir erscheint die Pearson Ähnlichkeit sinnvoller, da diese die Bewertungen der Personen relativiert und somit die Bewertungen der Personen besser vergleichbar macht."
   ]
  },
  {
   "cell_type": "markdown",
   "metadata": {},
   "source": [
    "### Berechnung von Empfehlungen mit User basiertem Collaborative Filtering\n",
    "Für die Produkte, die von einer Person noch nicht gekauft wurden, sollen Empfehlungen berechnet werden. Die Empfehlungen können ebenfalls Werte zwischen 1 (wird nicht empfohlen) und 5 (wird stark empfohlen) annehmen. Für die Berechnung der Empfehlung werden die Bewertungen des jeweiligen Produkts durch die anderen Personen herangezogen. Dabei werden die Bewertungen der ähnlichen Personen (d.h. hoher Pearson-Korrelationswert) stärker mit einbezogen als die Bewertungen durch Personen mit einem niedrigen Korrelationswert.\n",
    "\n",
    "__Beispiel:__\n",
    "Toby hat die Filme *The Night Listener*, _Lady in the Water_ und _Just My Luck_ noch nicht gekauft. Für diese Filme soll für Toby eine Empfehlung berechnet werden.\n",
    "In der unten aufgeführten Tabelle enthält die zweite Spalte die _Pearson-Ähnlichkeitswerte_ zwischen Toby und den anderen Personen. Die Spalten 3, 5 und 7 enthalten die Bewertungen der Filme *The Night Listener*, _Lady in the Water_ und _Just My Luck_ durch die anderen Personen. Die Spalten 4, 6 und 8 enthalten die jeweilige Filmbewertung gewichtet (mulipliziert) mit den Ähnlichkeitswerten der jeweiligen Person. Es fällt auf, dass in der Tabelle _Michael_ nicht enthalten ist. Das liegt daran, dass _Michael_ und _Toby_ einen negativen Ähnlichkeitswert aufweisen, d.h. deren Interessen sind gegenläufig. Personen mit negativem Ähnlichkeitswert sollten für Empfehlungen nicht berücksichtigt werden.\n",
    "Die Zeile _Sum_ enthält die Summe aller gewichteten Bewertungen. Aus diesem Wert allein kann die Empfehlung noch nicht abgeleitet werden, da Filme die nur von wenigen Personen bewertet wurden, eine relativ kleine Summe ergeben. Deshalb sollte _Sum_ noch durch die Anzahl der Bewertungen für diesen Film geteilt werden. Oder besser: Nicht durch die Summe der Bewertungen, sondern durch die Summe der relevanten Ähnlichkeitswerte (*KSum*). Der resultierende Empfehlungswert ist in der letzten Zeile eingetragen.\n",
    "\n",
    "\n",
    "\n",
    "<img src=\"https://maucher.home.hdm-stuttgart.de/Pics/recommenderFilmCalculation.PNG\" style=\"width:500px\" align=\"center\">\n",
    "\n",
    "\n"
   ]
  },
  {
   "cell_type": "markdown",
   "metadata": {},
   "source": [
    "__Aufgabe:__\n",
    "Schreiben Sie eine Funktion *getRecommendations(prefs,person,similarity)*, mit der die Empfehlungswerte berechnet werden können und bestimmen Sie die Empfehlungswerte für Toby. Der Funktion wird  \n",
    "\n",
    "* das Dictionary _critics_ mit den Filmbewertungen, \n",
    "* der Name der Person, für welche Empfehlungen berechnet werden sollen\n",
    "* die Methode für die Berechnung der Ähnlichkeit *sim_euclid* oder *sim_pearson*\n",
    "\n",
    "übergeben. Die Methode soll eine geordnete Liste zurück geben. Jedes Listenelement enthält an erster Stelle den berechneten Empfehlungswert und an zweiter Stelle den Namen des Films. Die Liste soll nach Empfehlungswerten absteigend geordnet sein.\n",
    "\n",
    "Testen Sie diese Funktion indem Sie die Empfehlungen für _Toby_ berechnen und mit den Werten in der oben aufgeführten Tabelle vergleichen."
   ]
  },
  {
   "cell_type": "code",
   "execution_count": 32,
   "metadata": {},
   "outputs": [],
   "source": [
    "def get_unwatched_movies(prefs, person):\n",
    "    '''\n",
    "    Returns a list of movies which the person has not yet watched\n",
    "    '''\n",
    "    movies = [movie for p in prefs for movie in prefs[p] if movie not in prefs[person]]\n",
    "    return [*set(movies)]\n",
    "\n",
    "def get_recommendations(prefs, person, similarity=sim_pearson):\n",
    "\n",
    "  unwatched_movies = get_unwatched_movies(prefs, person)\n",
    "  result = []\n",
    "\n",
    "  for movie in unwatched_movies:\n",
    "    ksum = 0\n",
    "    scoreSum = 0\n",
    "    for other in prefs:\n",
    "      # skip if this is the same person\n",
    "      if other == person: continue\n",
    "\n",
    "      # skip if the other person has not watched this movie\n",
    "      if movie not in prefs[other]: continue\n",
    "\n",
    "      score = prefs[other][movie]\n",
    "\n",
    "      sim = similarity(prefs, person, other)\n",
    "\n",
    "      # skip if the similarity is less than 0\n",
    "      if sim < 0: continue\n",
    "\n",
    "      ksum += sim\n",
    "      scoreSum += sim * score\n",
    "    \n",
    "    result.append((scoreSum / ksum, movie))\n",
    "\n",
    "  result.sort()\n",
    "  result.reverse()\n",
    "  return result"
   ]
  },
  {
   "cell_type": "code",
   "execution_count": 33,
   "metadata": {},
   "outputs": [
    {
     "name": "stdout",
     "output_type": "stream",
     "text": [
      "Recommendations for Toby, using Pearson\n",
      "[(3.3477895267131004, 'The Night Listener'), (2.832549918264161, 'Lady in the Water'), (2.530980703765564, 'Just My Luck')]\n"
     ]
    }
   ],
   "source": [
    "print(\"Recommendations for Toby, using Pearson\")\n",
    "print(get_recommendations(critics, 'Toby', similarity=sim_pearson))"
   ]
  },
  {
   "cell_type": "markdown",
   "metadata": {},
   "source": [
    "### Berechnung von Empfehlungen mit Item basiertem Collaborative Filtering\n",
    "In den vorigen Aufgaben wurden Ähnlichkeiten zwischen Personen bestimmt und für Produktempfehlungen benutzt (User basiertes Collaborative Filtering). Jetzt soll die Ähnlichkeit zwischen Produkten berechnet werden und auf der Basis dieser Produktähnlichkeit Empfehlungen berechnet werden (Item basiertes Collaborative Filtering).\n",
    "\n",
    "Dabei sollen die bereits implementierten Ähnlichkeitsfunktion *sim_euclid* und *sim_pearson* sowie die Ähnlichkeeits-Sortierfunktion *topMatches* unverändert eingesetzt werden.\n",
    "\n",
    "__Aufgabe:__\n",
    "\n",
    "1. Implementieren Sie eine Funktion, welche das Bewertungsdictionary *critics* derart transformiert, dass die Funktionen `sim_euclid`, `sim_pearson` und `topMatches` für das Item-basierte CF unverändert eingesetzt werden können. Die transformierte Matrix soll unter dem Namen *transCritics* abgespeichert werden.\n",
    "2. Schreiben Sie eine Funktion `calculateSimilarItems`, die aus der transformierten Matrix *transCritics* ein Dictionary berechnet, welches die Ähnlichkeit zwischen allen Filmen beschreibt. Die Keys des Dictionary sind die Filmnamen. Die Values sind geordnete Listen, welche die Funktion `topMatches` zurückgibt, wenn sie für die Filme (nicht für die User) aufgerufen wird. Dieses Dictionary wird an das aufrufende Programm zurück geben. \n",
    "3. Schreiben Sie eine Funktion `getRecommendedItems`, welche basierend auf dem im unten aufgeführten Beispiel dargestellten Verfahren unter Vorgabe der Bewertungsmatrix und der zu verwendenden Ähnlichkeitsfunktion Produktempfehlungen berechnet.\n",
    "4. Testen Sie die Funktion indem Sie die Empfehlungen für Toby berechnen und mit den Werten in der unten aufgeführten Tabelle vergleichen\n",
    "\n",
    "__Erläuterndes Beispiel:__\n",
    "\n",
    "_Toby_ hat die Filme *The Night Listener*, *Lady in the Water* und *Just My Luck* noch nicht gekauft. Für diese Filme soll für *Toby* eine Empfehlung berechnet werden. Gekauft und bewertet hat *Toby* die Filme *Snakes on a plane*, *Superman Returns* und *You and me and Dupree*. Diese bereits vorhandenen Filme bilden die erste Spalte der unten dargestellten Matrix. In der zweiten Spalte befinden sich _Toby's_ Bewertungen dieser Filme. Die Spalten 3,5 und 7 enthalten die Ähnlichkeitswerte (mit *calculateSimilarItems* unter Verwendung des normierten euklidischen Ähnlichkeitsmaßes berechnet) zwischen den drei von *Toby* noch nicht gekauften Filmen und den drei von _Toby_ bewerteten Filmen. Diese Ähnlichkeitswerte werden jeweils mit _Toby's_ Bewertungen multipliziert. Das Resultat dieser Multiplikation befindet sich in den Spalten 4,6 und 8. Der finale Empfehlungswert für die von _Toby_ noch nicht gekauften Filme wird berechnet in dem in den Spalten 4,6 und 8 zunächst die Summe über die Werte dieser Spalte in den drei oberen Zeilen berechnet wird und durch die Summe über die Werte der Spalten 3,5 und 7 geteilt wird. Im Fall, dass die *Pearson-Korrelation* zwischen den Filmen als Ähnlichkeitswert herangezogen wird, können negative Ähnlichkeitswerte auftreten. Dann soll in die Berechnung eines Empfehlungswert für Film A nur dann die Bewertung von Film B einfließen, wenn der Korrelationswert zwischen beiden $>0$ ist.  \n",
    "\n",
    "\n",
    "<img src=\"https://maucher.home.hdm-stuttgart.de/Pics/recommenderFilmItemBased.PNG\" style=\"width:500px\" align=\"center\">\n"
   ]
  },
  {
   "cell_type": "code",
   "execution_count": null,
   "metadata": {},
   "outputs": [],
   "source": [
    "#Your Code"
   ]
  },
  {
   "cell_type": "markdown",
   "metadata": {
    "slideshow": {
     "slide_type": "slide"
    }
   },
   "source": [
    "## last.fm Musikempfehlungen\n",
    "\n",
    "__Aufgabe:__\n",
    "\n",
    "1. Installieren Sie das Package pylast. Stellen Sie durch Aufruf der Funktion *network=pylast.LastFMNetwork()* eine Verbindung zu *last.fm* her. Beim Aufruf der Funktion wird die Anmeldung und Authentifizierung durchgeführt. Die Funktion gibt ein Objekt der Klasse *Network* zurück. Über dieses Objekt können Methoden, wie\n",
    "\n",
    "    * *get_artist(\"kuenstlerName\")* (liefert Objekt der Klasse *Artist*)\n",
    "    * *get_album(\"albumName\")* (liefert Objekt der Klasse *Album*)\n",
    "    * *get_track(\"songName\")* (liefert Objekt der Klasse *Track*)\n",
    "    * *get_user(\"userName\"):* (liefert Objekt der Klasse *Tag*)\n",
    "    * usw.\n",
    "    \n",
    "      aufgerufen werden. Die Menge aller verfügbaren Klassen und deren Attribute und Methoden können dem Modul _pylast.py_ entnommen werden.\n",
    "\n",
    "1. Rufen Sie über das oben instanziierte *Network*-Objekt die Methode `get_artist(\"BandIhrerWahl\")` auf.\n",
    "2. Rufen Sie über das oben instanziierte *Artist*-Objekt die Methode `topfans=get_top_fans(10)` auf. Die Methode gibt eine Liste von _User_-Objekt/Gewichtung-Paaren zurück. Die Gewichtungen von Objekten werden in diesem Versuch nicht benötigt. Legen Sie deshalb mit `group=[a.item for a in topfan]` eine Liste an, die nur noch die User Objekte enthält. **Wichtige Anmerkung:** Seit August 2015 gibt es Probleme mit der lastFM API Methode `get_top_fans()` (siehe auch: [pylast issues](https://github.com/pylast/pylast/issues/155s)). Falls am Versuchstermin der Fehler noch nicht behoben ist, können Sie den unten stehenden Code benutzen. Darin wird versucht auf die API-Methode zuzugreifen. Falls das nicht möglich ist, wird eine vordefinierte Liste von Usern angewandt. Diese Liste repräsentiert die *Top Fans* der Band *Slipknot* im Frühjahr 2015. \n",
    "3. Implementieren Sie eine Funktion `createLastfmUserDict()`. Dieser Funktion soll, die oben angelegte Liste von *User*-Objekten _group_ übergeben werden. Für jeden User in *group* sollen die 20 beliebtesten Bands mit der Methode `topartists=get_top_artists()[0:20]` bestimmt werden. Die Methode gibt eine Liste von *Artist*-Objekt/Gewichtung-Paaren zurück. Die Gewichtungen von Objekten werden in diesem Versuch nicht benötigt. Auf das *i.te* *Artist*-Objekt selbst kann mit `topartists[i].item` zugegriffen werden. Die Menge aller Bands, die auf diese Weise gesammelt werden, wird im folgenden mit _AllBands_ bezeichnet. D.h. in *AllBands* befinden sich alle Bands, die für mindestens einen User in *group* zu den Top-20 gehören. Nun soll ein verschachteltes Dictionary mit Namen *userDict* wie folgt angelegt werden:\n",
    "\n",
    "    * Die Keys sind die Namen der _User_-Objekte in _group_. Auf den Namen eines Objekts kann mit `get_name()` zugegriffen werden.\n",
    "    * Die Values sind selbst wieder Dictionaries, deren Keys die Namen der Bands in *AllBands* sind. Achten Sie auch hier darauf, dass Sie nicht das *Artist*-Objekt selbst, sondern dessen Namen als Key verwenden. \n",
    "    * Für den User *a* und die Band *b* ist der Value `userDict[a][b]= 1`, falls *b* zu den Top-20 des Users *a* gehört. Andernfalls ist `userDict[a][b]= 0`. \n",
    "    \n",
    "    Das derart angelegte Dictionary soll von der Funktion zurückgegeben werden. \n",
    "4. Wählen Sie jetzt einen beliebigen User aus *group*. Bestimmen Sie zu diesem User die ähnlichsten User in *group* durch Anwendung der im ersten Teilversuch implementierten Funktion `topMatches()`. Der Funktion wird das angelegte *userDict* und der Name des gewählten Users übergeben. Als Ähnlichkeitsmaß soll die euklidische Metrik angewandt werden.\n",
    "5. Bestimmen Sie dann für den gewählten User Band-Empfehlungen durch Anwendung der im ersten Teilversuch implementierten Funktion `getRecommendations()`. Der Funktion wird das angelegte *userDict* und der Name des gewählten Users übergeben. Als Ähnlichkeitsmaß soll die euklidische Metrik, danach die Russel_Rao Metrik, angewandt werden.     \n",
    "6. Diskutieren Sie das Ergebnis"
   ]
  },
  {
   "cell_type": "code",
   "execution_count": null,
   "metadata": {},
   "outputs": [],
   "source": [
    "import pylast\n",
    "nw=pylast.LastFMNetwork(api_key = \"993a5bd9d79a98a53677570368d55acd\",api_secret = \"9b8de0b57903ac007cdd8ec9003b341e\",username = \"pythonlab\")\n",
    "band='Slipknot'\n",
    "art1 = nw.get_artist(band)\n",
    "print(\"Most similar (as calculated by lastFM) for artist: \",band)\n",
    "for it in art1.get_similar(5):\n",
    "    print(\"%3.3f \\t %s\"%(it.match, it.item))\n",
    "try:\n",
    "    topfan = art1.get_top_fans()\n",
    "    group = [a.item for a in topfan]\n",
    "except:\n",
    "    print(\"\\nlastFM API Error for method get_top_fans\\nApply predefined group of users\")\n",
    "    usernames=['BrunoJoS','DPREBOYE','MPistol40','NemoNightfall','SkyRif','Wags1382','Znapsen','cortapsyco','emill_67','sattuviitana']\n",
    "    group=[]\n",
    "    for u in usernames:\n",
    "        u1 = nw.get_user(u)\n",
    "        group.append(u1)"
   ]
  },
  {
   "cell_type": "code",
   "execution_count": null,
   "metadata": {},
   "outputs": [],
   "source": []
  }
 ],
 "metadata": {
  "kernelspec": {
   "display_name": "Python 3 (ipykernel)",
   "language": "python",
   "name": "python3"
  },
  "language_info": {
   "codemirror_mode": {
    "name": "ipython",
    "version": 3
   },
   "file_extension": ".py",
   "mimetype": "text/x-python",
   "name": "python",
   "nbconvert_exporter": "python",
   "pygments_lexer": "ipython3",
   "version": "3.10.6"
  },
  "nav_menu": {},
  "toc": {
   "base_numbering": 1,
   "nav_menu": {},
   "number_sections": true,
   "sideBar": true,
   "skip_h1_title": false,
   "title_cell": "Table of Contents",
   "title_sidebar": "Contents",
   "toc_cell": false,
   "toc_position": {},
   "toc_section_display": "block",
   "toc_window_display": true
  },
  "toc_position": {
   "height": "664px",
   "left": "0px",
   "right": "1209.67px",
   "top": "125.333px",
   "width": "212px"
  }
 },
 "nbformat": 4,
 "nbformat_minor": 1
}
